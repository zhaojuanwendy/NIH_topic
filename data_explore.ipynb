{
 "cells": [
  {
   "cell_type": "code",
   "execution_count": 252,
   "metadata": {},
   "outputs": [],
   "source": [
    "import pandas as pd\n",
    "import numpy as np\n",
    "import seaborn as sns\n",
    "from os import path\n",
    "import matplotlib.pyplot as plt\n",
    "%matplotlib inline"
   ]
  },
  {
   "cell_type": "code",
   "execution_count": 253,
   "metadata": {},
   "outputs": [],
   "source": [
    "data_path ='data'"
   ]
  },
  {
   "cell_type": "code",
   "execution_count": 254,
   "metadata": {},
   "outputs": [
    {
     "data": {
      "text/plain": [
       "(8039, 10)"
      ]
     },
     "execution_count": 254,
     "metadata": {},
     "output_type": "execute_result"
    }
   ],
   "source": [
    "df = pd.read_csv(path.join(data_path, 'federalreporter_20200223.csv'), delimiter = '|', header=None,\n",
    "                names =['Project Number', 'Title', 'Agency', 'PI', 'Univ','Country', 'Fiscal Year', \n",
    "                        'Total Cost','Start Year','End Year' ],thousands=',')\n",
    "df.shape"
   ]
  },
  {
   "cell_type": "code",
   "execution_count": 255,
   "metadata": {},
   "outputs": [
    {
     "data": {
      "text/html": [
       "<div>\n",
       "<style scoped>\n",
       "    .dataframe tbody tr th:only-of-type {\n",
       "        vertical-align: middle;\n",
       "    }\n",
       "\n",
       "    .dataframe tbody tr th {\n",
       "        vertical-align: top;\n",
       "    }\n",
       "\n",
       "    .dataframe thead th {\n",
       "        text-align: right;\n",
       "    }\n",
       "</style>\n",
       "<table border=\"1\" class=\"dataframe\">\n",
       "  <thead>\n",
       "    <tr style=\"text-align: right;\">\n",
       "      <th></th>\n",
       "      <th>Project Number</th>\n",
       "      <th>Title</th>\n",
       "      <th>Agency</th>\n",
       "      <th>PI</th>\n",
       "      <th>Univ</th>\n",
       "      <th>Country</th>\n",
       "      <th>Fiscal Year</th>\n",
       "      <th>Total Cost</th>\n",
       "      <th>Start Year</th>\n",
       "      <th>End Year</th>\n",
       "    </tr>\n",
       "  </thead>\n",
       "  <tbody>\n",
       "    <tr>\n",
       "      <th>0</th>\n",
       "      <td>1717290</td>\n",
       "      <td>RI: SMALL: MODERN MACHINE LEARNING ALGORITHMS ...</td>\n",
       "      <td>NSF</td>\n",
       "      <td>AGARWAL, SHIVANI</td>\n",
       "      <td>UNIVERSITY OF PENNSYLVANIA</td>\n",
       "      <td>UNITED STATES</td>\n",
       "      <td>2017</td>\n",
       "      <td>$445,473</td>\n",
       "      <td>01-Sep-2017</td>\n",
       "      <td>31-Aug-2020</td>\n",
       "    </tr>\n",
       "    <tr>\n",
       "      <th>1</th>\n",
       "      <td>1R01LM012734-01</td>\n",
       "      <td>MECHANISTIC MACHINE LEARNING</td>\n",
       "      <td>NLM</td>\n",
       "      <td>ALBERS, DAVID J.</td>\n",
       "      <td>COLUMBIA UNIVERSITY HEALTH SCIENCES</td>\n",
       "      <td>UNITED STATES</td>\n",
       "      <td>2017</td>\n",
       "      <td>$698,661</td>\n",
       "      <td>20-Sep-2017</td>\n",
       "      <td>31-Aug-2020</td>\n",
       "    </tr>\n",
       "    <tr>\n",
       "      <th>2</th>\n",
       "      <td>1ZIALM010004-02</td>\n",
       "      <td>IMAGE ANALYSIS AND MACHINE LEARNING FOR PULMON...</td>\n",
       "      <td>NLM</td>\n",
       "      <td>ANTANI, SAMEER</td>\n",
       "      <td>NATIONAL INSTITUTES OF HEALTH</td>\n",
       "      <td>UNITED STATES</td>\n",
       "      <td>2017</td>\n",
       "      <td>$303,476</td>\n",
       "      <td>NaN</td>\n",
       "      <td>NaN</td>\n",
       "    </tr>\n",
       "    <tr>\n",
       "      <th>3</th>\n",
       "      <td>261201700515P-0-0-1</td>\n",
       "      <td>IGF::OT::IGF MACHINE LEARNING METHODS TO IDENT...</td>\n",
       "      <td>NCI</td>\n",
       "      <td>BANERJEE, MOUSUMI</td>\n",
       "      <td>NaN</td>\n",
       "      <td>UNITED STATES</td>\n",
       "      <td>2017</td>\n",
       "      <td>$24,500</td>\n",
       "      <td>15-Sep-2017</td>\n",
       "      <td>14-Sep-2018</td>\n",
       "    </tr>\n",
       "    <tr>\n",
       "      <th>4</th>\n",
       "      <td>5R21MH110758-02</td>\n",
       "      <td>MACHINE LEARNING AND PERSONALIZED PROGNOSIS FO...</td>\n",
       "      <td>NIMH</td>\n",
       "      <td>BEEVERS, CHRISTOPHER G</td>\n",
       "      <td>UNIVERSITY OF TEXAS AUSTIN</td>\n",
       "      <td>UNITED STATES</td>\n",
       "      <td>2017</td>\n",
       "      <td>$195,625</td>\n",
       "      <td>01-Jul-2016</td>\n",
       "      <td>31-May-2019</td>\n",
       "    </tr>\n",
       "  </tbody>\n",
       "</table>\n",
       "</div>"
      ],
      "text/plain": [
       "        Project Number                                              Title  \\\n",
       "0              1717290  RI: SMALL: MODERN MACHINE LEARNING ALGORITHMS ...   \n",
       "1      1R01LM012734-01                       MECHANISTIC MACHINE LEARNING   \n",
       "2      1ZIALM010004-02  IMAGE ANALYSIS AND MACHINE LEARNING FOR PULMON...   \n",
       "3  261201700515P-0-0-1  IGF::OT::IGF MACHINE LEARNING METHODS TO IDENT...   \n",
       "4      5R21MH110758-02  MACHINE LEARNING AND PERSONALIZED PROGNOSIS FO...   \n",
       "\n",
       "  Agency                      PI                                 Univ  \\\n",
       "0    NSF        AGARWAL, SHIVANI           UNIVERSITY OF PENNSYLVANIA   \n",
       "1    NLM        ALBERS, DAVID J.  COLUMBIA UNIVERSITY HEALTH SCIENCES   \n",
       "2    NLM          ANTANI, SAMEER        NATIONAL INSTITUTES OF HEALTH   \n",
       "3    NCI       BANERJEE, MOUSUMI                                  NaN   \n",
       "4   NIMH  BEEVERS, CHRISTOPHER G           UNIVERSITY OF TEXAS AUSTIN   \n",
       "\n",
       "         Country  Fiscal Year Total Cost   Start Year     End Year  \n",
       "0  UNITED STATES         2017   $445,473  01-Sep-2017  31-Aug-2020  \n",
       "1  UNITED STATES         2017   $698,661  20-Sep-2017  31-Aug-2020  \n",
       "2  UNITED STATES         2017   $303,476          NaN          NaN  \n",
       "3  UNITED STATES         2017    $24,500  15-Sep-2017  14-Sep-2018  \n",
       "4  UNITED STATES         2017   $195,625  01-Jul-2016  31-May-2019  "
      ]
     },
     "execution_count": 255,
     "metadata": {},
     "output_type": "execute_result"
    }
   ],
   "source": [
    "df.head()"
   ]
  },
  {
   "cell_type": "markdown",
   "metadata": {},
   "source": [
    "## preprocess the data"
   ]
  },
  {
   "cell_type": "markdown",
   "metadata": {},
   "source": [
    "### 1 change the time formate"
   ]
  },
  {
   "cell_type": "code",
   "execution_count": 256,
   "metadata": {},
   "outputs": [
    {
     "data": {
      "text/plain": [
       "'2017-09-20'"
      ]
     },
     "execution_count": 256,
     "metadata": {},
     "output_type": "execute_result"
    }
   ],
   "source": [
    "from datetime import datetime\n",
    "\n",
    "s1 = \"20-Sep-2017\"\n",
    "d1 = datetime.strptime(s1, '%d-%b-%Y')\n",
    "d2 = datetime.strptime('31-Aug-2020', '%d-%b-%Y')\n",
    "delta = d2-d1\n",
    "delta.days/365\n",
    "\n",
    "d1.strftime('%Y-%m-%d')"
   ]
  },
  {
   "cell_type": "code",
   "execution_count": 257,
   "metadata": {},
   "outputs": [],
   "source": [
    "df['Start Year'] = pd.to_datetime(df['Start Year'])\n",
    "df['End Year'] = pd.to_datetime(df['End Year'])"
   ]
  },
  {
   "cell_type": "code",
   "execution_count": 258,
   "metadata": {},
   "outputs": [
    {
     "name": "stdout",
     "output_type": "stream",
     "text": [
      "<class 'pandas.core.frame.DataFrame'>\n",
      "RangeIndex: 8039 entries, 0 to 8038\n",
      "Data columns (total 10 columns):\n",
      "Project Number    8039 non-null object\n",
      "Title             8039 non-null object\n",
      "Agency            8039 non-null object\n",
      "PI                8039 non-null object\n",
      "Univ              8038 non-null object\n",
      "Country           8037 non-null object\n",
      "Fiscal Year       8039 non-null int64\n",
      "Total Cost        7966 non-null object\n",
      "Start Year        7358 non-null datetime64[ns]\n",
      "End Year          7393 non-null datetime64[ns]\n",
      "dtypes: datetime64[ns](2), int64(1), object(7)\n",
      "memory usage: 628.2+ KB\n"
     ]
    }
   ],
   "source": [
    "df.info()"
   ]
  },
  {
   "cell_type": "code",
   "execution_count": 259,
   "metadata": {},
   "outputs": [
    {
     "data": {
      "text/plain": [
       "0       26280.0\n",
       "1       25824.0\n",
       "2           NaN\n",
       "3        8736.0\n",
       "4       25536.0\n",
       "         ...   \n",
       "8034    26280.0\n",
       "8035    43416.0\n",
       "8036    43056.0\n",
       "8037    33960.0\n",
       "8038    26280.0\n",
       "Length: 8039, dtype: float64"
      ]
     },
     "execution_count": 259,
     "metadata": {},
     "output_type": "execute_result"
    }
   ],
   "source": [
    "(df['End Year'] - df['Start Year']).astype('timedelta64[h]')"
   ]
  },
  {
   "cell_type": "code",
   "execution_count": 260,
   "metadata": {},
   "outputs": [
    {
     "data": {
      "text/html": [
       "<div>\n",
       "<style scoped>\n",
       "    .dataframe tbody tr th:only-of-type {\n",
       "        vertical-align: middle;\n",
       "    }\n",
       "\n",
       "    .dataframe tbody tr th {\n",
       "        vertical-align: top;\n",
       "    }\n",
       "\n",
       "    .dataframe thead th {\n",
       "        text-align: right;\n",
       "    }\n",
       "</style>\n",
       "<table border=\"1\" class=\"dataframe\">\n",
       "  <thead>\n",
       "    <tr style=\"text-align: right;\">\n",
       "      <th></th>\n",
       "      <th>Project Number</th>\n",
       "      <th>Title</th>\n",
       "      <th>Agency</th>\n",
       "      <th>PI</th>\n",
       "      <th>Univ</th>\n",
       "      <th>Country</th>\n",
       "      <th>Fiscal Year</th>\n",
       "      <th>Total Cost</th>\n",
       "      <th>Start Year</th>\n",
       "      <th>End Year</th>\n",
       "      <th>Delta_years</th>\n",
       "    </tr>\n",
       "  </thead>\n",
       "  <tbody>\n",
       "    <tr>\n",
       "      <th>0</th>\n",
       "      <td>1717290</td>\n",
       "      <td>RI: SMALL: MODERN MACHINE LEARNING ALGORITHMS ...</td>\n",
       "      <td>NSF</td>\n",
       "      <td>AGARWAL, SHIVANI</td>\n",
       "      <td>UNIVERSITY OF PENNSYLVANIA</td>\n",
       "      <td>UNITED STATES</td>\n",
       "      <td>2017</td>\n",
       "      <td>$445,473</td>\n",
       "      <td>2017-09-01</td>\n",
       "      <td>2020-08-31</td>\n",
       "      <td>3.0</td>\n",
       "    </tr>\n",
       "    <tr>\n",
       "      <th>1</th>\n",
       "      <td>1R01LM012734-01</td>\n",
       "      <td>MECHANISTIC MACHINE LEARNING</td>\n",
       "      <td>NLM</td>\n",
       "      <td>ALBERS, DAVID J.</td>\n",
       "      <td>COLUMBIA UNIVERSITY HEALTH SCIENCES</td>\n",
       "      <td>UNITED STATES</td>\n",
       "      <td>2017</td>\n",
       "      <td>$698,661</td>\n",
       "      <td>2017-09-20</td>\n",
       "      <td>2020-08-31</td>\n",
       "      <td>3.0</td>\n",
       "    </tr>\n",
       "    <tr>\n",
       "      <th>2</th>\n",
       "      <td>1ZIALM010004-02</td>\n",
       "      <td>IMAGE ANALYSIS AND MACHINE LEARNING FOR PULMON...</td>\n",
       "      <td>NLM</td>\n",
       "      <td>ANTANI, SAMEER</td>\n",
       "      <td>NATIONAL INSTITUTES OF HEALTH</td>\n",
       "      <td>UNITED STATES</td>\n",
       "      <td>2017</td>\n",
       "      <td>$303,476</td>\n",
       "      <td>NaT</td>\n",
       "      <td>NaT</td>\n",
       "      <td>NaN</td>\n",
       "    </tr>\n",
       "    <tr>\n",
       "      <th>3</th>\n",
       "      <td>261201700515P-0-0-1</td>\n",
       "      <td>IGF::OT::IGF MACHINE LEARNING METHODS TO IDENT...</td>\n",
       "      <td>NCI</td>\n",
       "      <td>BANERJEE, MOUSUMI</td>\n",
       "      <td>NaN</td>\n",
       "      <td>UNITED STATES</td>\n",
       "      <td>2017</td>\n",
       "      <td>$24,500</td>\n",
       "      <td>2017-09-15</td>\n",
       "      <td>2018-09-14</td>\n",
       "      <td>1.0</td>\n",
       "    </tr>\n",
       "    <tr>\n",
       "      <th>4</th>\n",
       "      <td>5R21MH110758-02</td>\n",
       "      <td>MACHINE LEARNING AND PERSONALIZED PROGNOSIS FO...</td>\n",
       "      <td>NIMH</td>\n",
       "      <td>BEEVERS, CHRISTOPHER G</td>\n",
       "      <td>UNIVERSITY OF TEXAS AUSTIN</td>\n",
       "      <td>UNITED STATES</td>\n",
       "      <td>2017</td>\n",
       "      <td>$195,625</td>\n",
       "      <td>2016-07-01</td>\n",
       "      <td>2019-05-31</td>\n",
       "      <td>3.0</td>\n",
       "    </tr>\n",
       "  </tbody>\n",
       "</table>\n",
       "</div>"
      ],
      "text/plain": [
       "        Project Number                                              Title  \\\n",
       "0              1717290  RI: SMALL: MODERN MACHINE LEARNING ALGORITHMS ...   \n",
       "1      1R01LM012734-01                       MECHANISTIC MACHINE LEARNING   \n",
       "2      1ZIALM010004-02  IMAGE ANALYSIS AND MACHINE LEARNING FOR PULMON...   \n",
       "3  261201700515P-0-0-1  IGF::OT::IGF MACHINE LEARNING METHODS TO IDENT...   \n",
       "4      5R21MH110758-02  MACHINE LEARNING AND PERSONALIZED PROGNOSIS FO...   \n",
       "\n",
       "  Agency                      PI                                 Univ  \\\n",
       "0    NSF        AGARWAL, SHIVANI           UNIVERSITY OF PENNSYLVANIA   \n",
       "1    NLM        ALBERS, DAVID J.  COLUMBIA UNIVERSITY HEALTH SCIENCES   \n",
       "2    NLM          ANTANI, SAMEER        NATIONAL INSTITUTES OF HEALTH   \n",
       "3    NCI       BANERJEE, MOUSUMI                                  NaN   \n",
       "4   NIMH  BEEVERS, CHRISTOPHER G           UNIVERSITY OF TEXAS AUSTIN   \n",
       "\n",
       "         Country  Fiscal Year Total Cost Start Year   End Year  Delta_years  \n",
       "0  UNITED STATES         2017   $445,473 2017-09-01 2020-08-31          3.0  \n",
       "1  UNITED STATES         2017   $698,661 2017-09-20 2020-08-31          3.0  \n",
       "2  UNITED STATES         2017   $303,476        NaT        NaT          NaN  \n",
       "3  UNITED STATES         2017    $24,500 2017-09-15 2018-09-14          1.0  \n",
       "4  UNITED STATES         2017   $195,625 2016-07-01 2019-05-31          3.0  "
      ]
     },
     "execution_count": 260,
     "metadata": {},
     "output_type": "execute_result"
    }
   ],
   "source": [
    "df['Delta_years'] = round((df['End Year'] - df['Start Year']).astype('timedelta64[D]')/365)\n",
    "df.head()"
   ]
  },
  {
   "cell_type": "code",
   "execution_count": 261,
   "metadata": {},
   "outputs": [
    {
     "data": {
      "text/plain": [
       "array([2017, 2014, 2016, 2015, 2018])"
      ]
     },
     "execution_count": 261,
     "metadata": {},
     "output_type": "execute_result"
    }
   ],
   "source": [
    "df['Fiscal Year'].unique()"
   ]
  },
  {
   "cell_type": "code",
   "execution_count": 262,
   "metadata": {},
   "outputs": [],
   "source": [
    "def correct_years(x):\n",
    "    if x['Delta_years']>5:\n",
    "        f = pd.to_datetime(x['Fiscal Year'],format='%Y')\n",
    "        t = x['End Year']\n",
    "        delta = round((t - f).days/365)\n",
    "        x['Delta_years'] = delta\n",
    "    return x\n",
    "    \n",
    "df = df.apply(correct_years, axis=1)"
   ]
  },
  {
   "cell_type": "code",
   "execution_count": 263,
   "metadata": {},
   "outputs": [
    {
     "data": {
      "text/html": [
       "<div>\n",
       "<style scoped>\n",
       "    .dataframe tbody tr th:only-of-type {\n",
       "        vertical-align: middle;\n",
       "    }\n",
       "\n",
       "    .dataframe tbody tr th {\n",
       "        vertical-align: top;\n",
       "    }\n",
       "\n",
       "    .dataframe thead th {\n",
       "        text-align: right;\n",
       "    }\n",
       "</style>\n",
       "<table border=\"1\" class=\"dataframe\">\n",
       "  <thead>\n",
       "    <tr style=\"text-align: right;\">\n",
       "      <th></th>\n",
       "      <th>Project Number</th>\n",
       "      <th>Title</th>\n",
       "      <th>Agency</th>\n",
       "      <th>PI</th>\n",
       "      <th>Univ</th>\n",
       "      <th>Country</th>\n",
       "      <th>Fiscal Year</th>\n",
       "      <th>Total Cost</th>\n",
       "      <th>Start Year</th>\n",
       "      <th>End Year</th>\n",
       "      <th>Delta_years</th>\n",
       "    </tr>\n",
       "  </thead>\n",
       "  <tbody>\n",
       "    <tr>\n",
       "      <th>353</th>\n",
       "      <td>3U24CA224370-01S1</td>\n",
       "      <td>MACHINE LEARNING MODEL VALIDATION FOR AD/ADRD</td>\n",
       "      <td>NCI</td>\n",
       "      <td>OPREA, TUDOR I</td>\n",
       "      <td>UNIVERSITY OF NEW MEXICO HEALTH SCIS CTR</td>\n",
       "      <td>UNITED STATES</td>\n",
       "      <td>2018</td>\n",
       "      <td>$378,750</td>\n",
       "      <td>2018-01-03</td>\n",
       "      <td>2023-12-31</td>\n",
       "      <td>6.0</td>\n",
       "    </tr>\n",
       "    <tr>\n",
       "      <th>443</th>\n",
       "      <td>2P01AG005842-30</td>\n",
       "      <td>IMPROVING HEALTH OUTCOMES FOR AN AGING POPULATION</td>\n",
       "      <td>NIA</td>\n",
       "      <td>BAICKER, KATHERINE</td>\n",
       "      <td>NATIONAL BUREAU OF ECONOMIC RESEARCH</td>\n",
       "      <td>UNITED STATES</td>\n",
       "      <td>2017</td>\n",
       "      <td>$1,755,747</td>\n",
       "      <td>1997-02-01</td>\n",
       "      <td>2023-06-30</td>\n",
       "      <td>6.0</td>\n",
       "    </tr>\n",
       "    <tr>\n",
       "      <th>464</th>\n",
       "      <td>2R24AI072073-11</td>\n",
       "      <td>IMMGEN: GENE EXPRESSION AND REGULATION IN IMMU...</td>\n",
       "      <td>NIAID</td>\n",
       "      <td>BENOIST, CHRISTOPHE O.</td>\n",
       "      <td>HARVARD UNIVERSITY</td>\n",
       "      <td>UNITED STATES</td>\n",
       "      <td>2017</td>\n",
       "      <td>$1,727,457</td>\n",
       "      <td>2007-09-18</td>\n",
       "      <td>2022-08-31</td>\n",
       "      <td>6.0</td>\n",
       "    </tr>\n",
       "    <tr>\n",
       "      <th>803</th>\n",
       "      <td>1U24HL138998-01</td>\n",
       "      <td>DATA, MODELING,AND COORDINATION CENTER FOR PRE...</td>\n",
       "      <td>NHLBI</td>\n",
       "      <td>IVANOVA, ANASTASIA</td>\n",
       "      <td>UNIVERSITY OF NORTH CAROLINA CHAPEL HILL</td>\n",
       "      <td>UNITED STATES</td>\n",
       "      <td>2017</td>\n",
       "      <td>$991,019</td>\n",
       "      <td>2017-09-23</td>\n",
       "      <td>2023-06-30</td>\n",
       "      <td>6.0</td>\n",
       "    </tr>\n",
       "    <tr>\n",
       "      <th>818</th>\n",
       "      <td>1U24DK116204-01</td>\n",
       "      <td>ILLUMINATING FUNCTION OF THE UNDERSTUDIED DRUG...</td>\n",
       "      <td>NIDDK</td>\n",
       "      <td>JOHNSON, GARY L.</td>\n",
       "      <td>UNIVERSITY OF NORTH CAROLINA CHAPEL HILL</td>\n",
       "      <td>UNITED STATES</td>\n",
       "      <td>2017</td>\n",
       "      <td>$2,308,193</td>\n",
       "      <td>2017-09-15</td>\n",
       "      <td>2023-08-31</td>\n",
       "      <td>7.0</td>\n",
       "    </tr>\n",
       "    <tr>\n",
       "      <th>1778</th>\n",
       "      <td>1U54HL127365-01</td>\n",
       "      <td>PHARMACO RESPONSE SIGNATURES AND DISEASE MECHA...</td>\n",
       "      <td>NHLBI</td>\n",
       "      <td>SORGER, PETER KARL</td>\n",
       "      <td>HARVARD UNIVERSITY</td>\n",
       "      <td>UNITED STATES</td>\n",
       "      <td>2014</td>\n",
       "      <td>$2,145,458</td>\n",
       "      <td>2014-09-10</td>\n",
       "      <td>2020-06-30</td>\n",
       "      <td>6.0</td>\n",
       "    </tr>\n",
       "    <tr>\n",
       "      <th>1798</th>\n",
       "      <td>1U54NS091046-01</td>\n",
       "      <td>NEURON AND GLIAL CELLULAR SIGNATURES FROM NORM...</td>\n",
       "      <td>NINDS</td>\n",
       "      <td>THOMPSON, LESLIE MICHELS</td>\n",
       "      <td>UNIVERSITY OF CALIFORNIA IRVINE</td>\n",
       "      <td>UNITED STATES</td>\n",
       "      <td>2014</td>\n",
       "      <td>$1,334,000</td>\n",
       "      <td>2014-09-30</td>\n",
       "      <td>2020-06-30</td>\n",
       "      <td>6.0</td>\n",
       "    </tr>\n",
       "    <tr>\n",
       "      <th>1840</th>\n",
       "      <td>1412958</td>\n",
       "      <td>AF: LARGE: THEORY OF COMPUTATION - PUSHING THE...</td>\n",
       "      <td>NSF</td>\n",
       "      <td>WIGDERSON, AVI</td>\n",
       "      <td>INSTITUTE FOR ADVANCED STUDY</td>\n",
       "      <td>UNITED STATES</td>\n",
       "      <td>2014</td>\n",
       "      <td>$1,590,816</td>\n",
       "      <td>2014-09-01</td>\n",
       "      <td>2020-08-31</td>\n",
       "      <td>7.0</td>\n",
       "    </tr>\n",
       "    <tr>\n",
       "      <th>1882</th>\n",
       "      <td>2R01AA018673-06A1</td>\n",
       "      <td>IMPLEMENTATION OF TECHNOLOGY-BASED EVALUATION ...</td>\n",
       "      <td>NIAAA</td>\n",
       "      <td>ATKINS, DAVID CHARLES</td>\n",
       "      <td>UNIVERSITY OF WASHINGTON</td>\n",
       "      <td>UNITED STATES</td>\n",
       "      <td>2016</td>\n",
       "      <td>$647,176</td>\n",
       "      <td>2010-09-01</td>\n",
       "      <td>2021-08-31</td>\n",
       "      <td>6.0</td>\n",
       "    </tr>\n",
       "    <tr>\n",
       "      <th>2172</th>\n",
       "      <td>2T90DA022762-11</td>\n",
       "      <td>INTERDISCIPLINARY TRAINING IN COMPUTATIONAL NE...</td>\n",
       "      <td>NIDA</td>\n",
       "      <td>KASS, ROBERT E</td>\n",
       "      <td>CARNEGIE MELLON UNIVERSITY</td>\n",
       "      <td>UNITED STATES</td>\n",
       "      <td>2016</td>\n",
       "      <td>$187,448</td>\n",
       "      <td>2006-09-30</td>\n",
       "      <td>2021-08-31</td>\n",
       "      <td>6.0</td>\n",
       "    </tr>\n",
       "  </tbody>\n",
       "</table>\n",
       "</div>"
      ],
      "text/plain": [
       "         Project Number                                              Title  \\\n",
       "353   3U24CA224370-01S1      MACHINE LEARNING MODEL VALIDATION FOR AD/ADRD   \n",
       "443     2P01AG005842-30  IMPROVING HEALTH OUTCOMES FOR AN AGING POPULATION   \n",
       "464     2R24AI072073-11  IMMGEN: GENE EXPRESSION AND REGULATION IN IMMU...   \n",
       "803     1U24HL138998-01  DATA, MODELING,AND COORDINATION CENTER FOR PRE...   \n",
       "818     1U24DK116204-01  ILLUMINATING FUNCTION OF THE UNDERSTUDIED DRUG...   \n",
       "1778    1U54HL127365-01  PHARMACO RESPONSE SIGNATURES AND DISEASE MECHA...   \n",
       "1798    1U54NS091046-01  NEURON AND GLIAL CELLULAR SIGNATURES FROM NORM...   \n",
       "1840            1412958  AF: LARGE: THEORY OF COMPUTATION - PUSHING THE...   \n",
       "1882  2R01AA018673-06A1  IMPLEMENTATION OF TECHNOLOGY-BASED EVALUATION ...   \n",
       "2172    2T90DA022762-11  INTERDISCIPLINARY TRAINING IN COMPUTATIONAL NE...   \n",
       "\n",
       "     Agency                        PI  \\\n",
       "353     NCI            OPREA, TUDOR I   \n",
       "443     NIA        BAICKER, KATHERINE   \n",
       "464   NIAID    BENOIST, CHRISTOPHE O.   \n",
       "803   NHLBI        IVANOVA, ANASTASIA   \n",
       "818   NIDDK          JOHNSON, GARY L.   \n",
       "1778  NHLBI        SORGER, PETER KARL   \n",
       "1798  NINDS  THOMPSON, LESLIE MICHELS   \n",
       "1840    NSF            WIGDERSON, AVI   \n",
       "1882  NIAAA     ATKINS, DAVID CHARLES   \n",
       "2172   NIDA            KASS, ROBERT E   \n",
       "\n",
       "                                          Univ        Country  Fiscal Year  \\\n",
       "353   UNIVERSITY OF NEW MEXICO HEALTH SCIS CTR  UNITED STATES         2018   \n",
       "443       NATIONAL BUREAU OF ECONOMIC RESEARCH  UNITED STATES         2017   \n",
       "464                         HARVARD UNIVERSITY  UNITED STATES         2017   \n",
       "803   UNIVERSITY OF NORTH CAROLINA CHAPEL HILL  UNITED STATES         2017   \n",
       "818   UNIVERSITY OF NORTH CAROLINA CHAPEL HILL  UNITED STATES         2017   \n",
       "1778                        HARVARD UNIVERSITY  UNITED STATES         2014   \n",
       "1798           UNIVERSITY OF CALIFORNIA IRVINE  UNITED STATES         2014   \n",
       "1840              INSTITUTE FOR ADVANCED STUDY  UNITED STATES         2014   \n",
       "1882                  UNIVERSITY OF WASHINGTON  UNITED STATES         2016   \n",
       "2172                CARNEGIE MELLON UNIVERSITY  UNITED STATES         2016   \n",
       "\n",
       "      Total Cost Start Year   End Year  Delta_years  \n",
       "353     $378,750 2018-01-03 2023-12-31          6.0  \n",
       "443   $1,755,747 1997-02-01 2023-06-30          6.0  \n",
       "464   $1,727,457 2007-09-18 2022-08-31          6.0  \n",
       "803     $991,019 2017-09-23 2023-06-30          6.0  \n",
       "818   $2,308,193 2017-09-15 2023-08-31          7.0  \n",
       "1778  $2,145,458 2014-09-10 2020-06-30          6.0  \n",
       "1798  $1,334,000 2014-09-30 2020-06-30          6.0  \n",
       "1840  $1,590,816 2014-09-01 2020-08-31          7.0  \n",
       "1882    $647,176 2010-09-01 2021-08-31          6.0  \n",
       "2172    $187,448 2006-09-30 2021-08-31          6.0  "
      ]
     },
     "execution_count": 263,
     "metadata": {},
     "output_type": "execute_result"
    }
   ],
   "source": [
    "df[df['Delta_years']>5].head(10)"
   ]
  },
  {
   "cell_type": "code",
   "execution_count": 264,
   "metadata": {},
   "outputs": [
    {
     "data": {
      "text/html": [
       "<div>\n",
       "<style scoped>\n",
       "    .dataframe tbody tr th:only-of-type {\n",
       "        vertical-align: middle;\n",
       "    }\n",
       "\n",
       "    .dataframe tbody tr th {\n",
       "        vertical-align: top;\n",
       "    }\n",
       "\n",
       "    .dataframe thead th {\n",
       "        text-align: right;\n",
       "    }\n",
       "</style>\n",
       "<table border=\"1\" class=\"dataframe\">\n",
       "  <thead>\n",
       "    <tr style=\"text-align: right;\">\n",
       "      <th></th>\n",
       "      <th>Project Number</th>\n",
       "      <th>Title</th>\n",
       "      <th>Agency</th>\n",
       "      <th>PI</th>\n",
       "      <th>Univ</th>\n",
       "      <th>Country</th>\n",
       "      <th>Fiscal Year</th>\n",
       "      <th>Total Cost</th>\n",
       "      <th>Start Year</th>\n",
       "      <th>End Year</th>\n",
       "      <th>Delta_years</th>\n",
       "    </tr>\n",
       "  </thead>\n",
       "  <tbody>\n",
       "    <tr>\n",
       "      <th>0</th>\n",
       "      <td>1717290</td>\n",
       "      <td>RI: SMALL: MODERN MACHINE LEARNING ALGORITHMS ...</td>\n",
       "      <td>NSF</td>\n",
       "      <td>AGARWAL, SHIVANI</td>\n",
       "      <td>UNIVERSITY OF PENNSYLVANIA</td>\n",
       "      <td>UNITED STATES</td>\n",
       "      <td>2017</td>\n",
       "      <td>445473.0</td>\n",
       "      <td>2017-09-01</td>\n",
       "      <td>2020-08-31</td>\n",
       "      <td>3.0</td>\n",
       "    </tr>\n",
       "    <tr>\n",
       "      <th>1</th>\n",
       "      <td>1R01LM012734-01</td>\n",
       "      <td>MECHANISTIC MACHINE LEARNING</td>\n",
       "      <td>NLM</td>\n",
       "      <td>ALBERS, DAVID J.</td>\n",
       "      <td>COLUMBIA UNIVERSITY HEALTH SCIENCES</td>\n",
       "      <td>UNITED STATES</td>\n",
       "      <td>2017</td>\n",
       "      <td>698661.0</td>\n",
       "      <td>2017-09-20</td>\n",
       "      <td>2020-08-31</td>\n",
       "      <td>3.0</td>\n",
       "    </tr>\n",
       "    <tr>\n",
       "      <th>2</th>\n",
       "      <td>1ZIALM010004-02</td>\n",
       "      <td>IMAGE ANALYSIS AND MACHINE LEARNING FOR PULMON...</td>\n",
       "      <td>NLM</td>\n",
       "      <td>ANTANI, SAMEER</td>\n",
       "      <td>NATIONAL INSTITUTES OF HEALTH</td>\n",
       "      <td>UNITED STATES</td>\n",
       "      <td>2017</td>\n",
       "      <td>303476.0</td>\n",
       "      <td>NaT</td>\n",
       "      <td>NaT</td>\n",
       "      <td>NaN</td>\n",
       "    </tr>\n",
       "    <tr>\n",
       "      <th>3</th>\n",
       "      <td>261201700515P-0-0-1</td>\n",
       "      <td>IGF::OT::IGF MACHINE LEARNING METHODS TO IDENT...</td>\n",
       "      <td>NCI</td>\n",
       "      <td>BANERJEE, MOUSUMI</td>\n",
       "      <td>NaN</td>\n",
       "      <td>UNITED STATES</td>\n",
       "      <td>2017</td>\n",
       "      <td>24500.0</td>\n",
       "      <td>2017-09-15</td>\n",
       "      <td>2018-09-14</td>\n",
       "      <td>1.0</td>\n",
       "    </tr>\n",
       "    <tr>\n",
       "      <th>4</th>\n",
       "      <td>5R21MH110758-02</td>\n",
       "      <td>MACHINE LEARNING AND PERSONALIZED PROGNOSIS FO...</td>\n",
       "      <td>NIMH</td>\n",
       "      <td>BEEVERS, CHRISTOPHER G</td>\n",
       "      <td>UNIVERSITY OF TEXAS AUSTIN</td>\n",
       "      <td>UNITED STATES</td>\n",
       "      <td>2017</td>\n",
       "      <td>195625.0</td>\n",
       "      <td>2016-07-01</td>\n",
       "      <td>2019-05-31</td>\n",
       "      <td>3.0</td>\n",
       "    </tr>\n",
       "  </tbody>\n",
       "</table>\n",
       "</div>"
      ],
      "text/plain": [
       "        Project Number                                              Title  \\\n",
       "0              1717290  RI: SMALL: MODERN MACHINE LEARNING ALGORITHMS ...   \n",
       "1      1R01LM012734-01                       MECHANISTIC MACHINE LEARNING   \n",
       "2      1ZIALM010004-02  IMAGE ANALYSIS AND MACHINE LEARNING FOR PULMON...   \n",
       "3  261201700515P-0-0-1  IGF::OT::IGF MACHINE LEARNING METHODS TO IDENT...   \n",
       "4      5R21MH110758-02  MACHINE LEARNING AND PERSONALIZED PROGNOSIS FO...   \n",
       "\n",
       "  Agency                      PI                                 Univ  \\\n",
       "0    NSF        AGARWAL, SHIVANI           UNIVERSITY OF PENNSYLVANIA   \n",
       "1    NLM        ALBERS, DAVID J.  COLUMBIA UNIVERSITY HEALTH SCIENCES   \n",
       "2    NLM          ANTANI, SAMEER        NATIONAL INSTITUTES OF HEALTH   \n",
       "3    NCI       BANERJEE, MOUSUMI                                  NaN   \n",
       "4   NIMH  BEEVERS, CHRISTOPHER G           UNIVERSITY OF TEXAS AUSTIN   \n",
       "\n",
       "         Country  Fiscal Year  Total Cost Start Year   End Year  Delta_years  \n",
       "0  UNITED STATES         2017    445473.0 2017-09-01 2020-08-31          3.0  \n",
       "1  UNITED STATES         2017    698661.0 2017-09-20 2020-08-31          3.0  \n",
       "2  UNITED STATES         2017    303476.0        NaT        NaT          NaN  \n",
       "3  UNITED STATES         2017     24500.0 2017-09-15 2018-09-14          1.0  \n",
       "4  UNITED STATES         2017    195625.0 2016-07-01 2019-05-31          3.0  "
      ]
     },
     "execution_count": 264,
     "metadata": {},
     "output_type": "execute_result"
    }
   ],
   "source": [
    "df[\"Total Cost\"] = df[\"Total Cost\"].str.replace(\"$\",\"\")\n",
    "df[\"Total Cost\"] = df[\"Total Cost\"].str.replace(\",\",\"\").astype(float)\n",
    "df.head()"
   ]
  },
  {
   "cell_type": "code",
   "execution_count": 265,
   "metadata": {},
   "outputs": [
    {
     "name": "stderr",
     "output_type": "stream",
     "text": [
      "/Users/juan/anaconda/lib/python3.6/site-packages/IPython/core/interactiveshell.py:3049: DtypeWarning: Columns (11) have mixed types. Specify dtype option on import or set low_memory=False.\n",
      "  interactivity=interactivity, compiler=compiler, result=result)\n"
     ]
    },
    {
     "data": {
      "text/plain": [
       "(93974, 24)"
      ]
     },
     "execution_count": 265,
     "metadata": {},
     "output_type": "execute_result"
    }
   ],
   "source": [
    "#only select NIH\n",
    "df_2018 = pd.read_csv(path.join(data_path, 'FedRePORTER_PRJ_C_FY2018.csv')) \n",
    "df_2018.shape"
   ]
  },
  {
   "cell_type": "code",
   "execution_count": 266,
   "metadata": {},
   "outputs": [
    {
     "data": {
      "text/html": [
       "<div>\n",
       "<style scoped>\n",
       "    .dataframe tbody tr th:only-of-type {\n",
       "        vertical-align: middle;\n",
       "    }\n",
       "\n",
       "    .dataframe tbody tr th {\n",
       "        vertical-align: top;\n",
       "    }\n",
       "\n",
       "    .dataframe thead th {\n",
       "        text-align: right;\n",
       "    }\n",
       "</style>\n",
       "<table border=\"1\" class=\"dataframe\">\n",
       "  <thead>\n",
       "    <tr style=\"text-align: right;\">\n",
       "      <th></th>\n",
       "      <th>PROJECT_ID</th>\n",
       "      <th>PROJECT_TERMS</th>\n",
       "      <th>PROJECT_TITLE</th>\n",
       "      <th>DEPARTMENT</th>\n",
       "      <th>AGENCY</th>\n",
       "      <th>IC_CENTER</th>\n",
       "      <th>PROJECT_NUMBER</th>\n",
       "      <th>PROJECT_START_DATE</th>\n",
       "      <th>PROJECT_END_DATE</th>\n",
       "      <th>CONTACT_PI_PROJECT_LEADER</th>\n",
       "      <th>...</th>\n",
       "      <th>ORGANIZATION_CITY</th>\n",
       "      <th>ORGANIZATION_STATE</th>\n",
       "      <th>ORGANIZATION_ZIP</th>\n",
       "      <th>ORGANIZATION_COUNTRY</th>\n",
       "      <th>BUDGET_START_DATE</th>\n",
       "      <th>BUDGET_END_DATE</th>\n",
       "      <th>CFDA_CODE</th>\n",
       "      <th>FY</th>\n",
       "      <th>FY_TOTAL_COST</th>\n",
       "      <th>FY_TOTAL_COST_SUB_PROJECTS</th>\n",
       "    </tr>\n",
       "  </thead>\n",
       "  <tbody>\n",
       "    <tr>\n",
       "      <th>0</th>\n",
       "      <td>983089</td>\n",
       "      <td>Acute; Address; Adhesions; Adhesives; Applica...</td>\n",
       "      <td>IMPROVING DRUG SAFETY FOR PREGNANT WOMEN BY DE...</td>\n",
       "      <td>HHS</td>\n",
       "      <td>ALLCDC</td>\n",
       "      <td>NCBDD</td>\n",
       "      <td>2R44DD001127-02</td>\n",
       "      <td>9/30/2017</td>\n",
       "      <td>9/29/2019</td>\n",
       "      <td>MARKHAM, GLEN</td>\n",
       "      <td>...</td>\n",
       "      <td>MIDLAND</td>\n",
       "      <td>MI</td>\n",
       "      <td>486415039</td>\n",
       "      <td>UNITED STATES</td>\n",
       "      <td>9/30/2017</td>\n",
       "      <td>9/29/2018</td>\n",
       "      <td>103.0</td>\n",
       "      <td>2018</td>\n",
       "      <td>499961.0</td>\n",
       "      <td>NaN</td>\n",
       "    </tr>\n",
       "    <tr>\n",
       "      <th>1</th>\n",
       "      <td>1005000</td>\n",
       "      <td>Area; Biological Assay; Brain; Cell physiolog...</td>\n",
       "      <td>LIGHT ADAPTATION AND CIRCADIAN MODULATION</td>\n",
       "      <td>HHS</td>\n",
       "      <td>NIH</td>\n",
       "      <td>NEI</td>\n",
       "      <td>5R01EY024567-06</td>\n",
       "      <td>9/1/2014</td>\n",
       "      <td>6/30/2019</td>\n",
       "      <td>FIELD, GREGORY DARIN</td>\n",
       "      <td>...</td>\n",
       "      <td>DURHAM</td>\n",
       "      <td>NC</td>\n",
       "      <td>277054673</td>\n",
       "      <td>UNITED STATES</td>\n",
       "      <td>7/1/2018</td>\n",
       "      <td>6/30/2019</td>\n",
       "      <td>867.0</td>\n",
       "      <td>2018</td>\n",
       "      <td>397500.0</td>\n",
       "      <td>NaN</td>\n",
       "    </tr>\n",
       "    <tr>\n",
       "      <th>2</th>\n",
       "      <td>1005001</td>\n",
       "      <td>3-Dimensional; Ablation; Affect; Aggressive b...</td>\n",
       "      <td>EVALUATION OF IRAK4 AS A NOVEL THERAPEUTIC TAR...</td>\n",
       "      <td>HHS</td>\n",
       "      <td>NIH</td>\n",
       "      <td>NCI</td>\n",
       "      <td>1R21CA223112-01</td>\n",
       "      <td>12/7/2017</td>\n",
       "      <td>11/30/2019</td>\n",
       "      <td>LIM, KIAN H</td>\n",
       "      <td>...</td>\n",
       "      <td>SAINT LOUIS</td>\n",
       "      <td>MO</td>\n",
       "      <td>631304862</td>\n",
       "      <td>UNITED STATES</td>\n",
       "      <td>12/7/2017</td>\n",
       "      <td>11/30/2018</td>\n",
       "      <td>395.0</td>\n",
       "      <td>2018</td>\n",
       "      <td>165844.0</td>\n",
       "      <td>NaN</td>\n",
       "    </tr>\n",
       "    <tr>\n",
       "      <th>3</th>\n",
       "      <td>1005002</td>\n",
       "      <td>Acids; Acute; Address; Amish; analog; base; B...</td>\n",
       "      <td>NOVEL TREATMENT OPTIONS FOR GLUTARIC ACIDURIA</td>\n",
       "      <td>HHS</td>\n",
       "      <td>NIH</td>\n",
       "      <td>NICHD</td>\n",
       "      <td>5R21HD088775-02</td>\n",
       "      <td>9/1/2017</td>\n",
       "      <td>8/31/2019</td>\n",
       "      <td>HOUTEN, SANDER MICHEL</td>\n",
       "      <td>...</td>\n",
       "      <td>NEW YORK</td>\n",
       "      <td>NY</td>\n",
       "      <td>100296574</td>\n",
       "      <td>UNITED STATES</td>\n",
       "      <td>9/1/2018</td>\n",
       "      <td>8/31/2019</td>\n",
       "      <td>865.0</td>\n",
       "      <td>2018</td>\n",
       "      <td>169500.0</td>\n",
       "      <td>NaN</td>\n",
       "    </tr>\n",
       "    <tr>\n",
       "      <th>4</th>\n",
       "      <td>1005003</td>\n",
       "      <td>4D Imaging; Address; Anaphase; Bacteria; Bact...</td>\n",
       "      <td>ILLEGITIMATE RECOMBINATION BY DRUG RESISTANCE ...</td>\n",
       "      <td>HHS</td>\n",
       "      <td>NIH</td>\n",
       "      <td>NIGMS</td>\n",
       "      <td>5R01GM025326-38</td>\n",
       "      <td>7/1/1978</td>\n",
       "      <td>1/31/2020</td>\n",
       "      <td>KLECKNER, NANCY E.</td>\n",
       "      <td>...</td>\n",
       "      <td>CAMBRIDGE</td>\n",
       "      <td>MA</td>\n",
       "      <td>021385319</td>\n",
       "      <td>UNITED STATES</td>\n",
       "      <td>2/1/2018</td>\n",
       "      <td>1/31/2019</td>\n",
       "      <td>859.0</td>\n",
       "      <td>2018</td>\n",
       "      <td>667755.0</td>\n",
       "      <td>NaN</td>\n",
       "    </tr>\n",
       "  </tbody>\n",
       "</table>\n",
       "<p>5 rows × 24 columns</p>\n",
       "</div>"
      ],
      "text/plain": [
       "   PROJECT_ID                                      PROJECT_TERMS  \\\n",
       "0      983089   Acute; Address; Adhesions; Adhesives; Applica...   \n",
       "1     1005000   Area; Biological Assay; Brain; Cell physiolog...   \n",
       "2     1005001   3-Dimensional; Ablation; Affect; Aggressive b...   \n",
       "3     1005002   Acids; Acute; Address; Amish; analog; base; B...   \n",
       "4     1005003   4D Imaging; Address; Anaphase; Bacteria; Bact...   \n",
       "\n",
       "                                       PROJECT_TITLE  DEPARTMENT  AGENCY  \\\n",
       "0  IMPROVING DRUG SAFETY FOR PREGNANT WOMEN BY DE...         HHS  ALLCDC   \n",
       "1          LIGHT ADAPTATION AND CIRCADIAN MODULATION         HHS     NIH   \n",
       "2  EVALUATION OF IRAK4 AS A NOVEL THERAPEUTIC TAR...         HHS     NIH   \n",
       "3      NOVEL TREATMENT OPTIONS FOR GLUTARIC ACIDURIA         HHS     NIH   \n",
       "4  ILLEGITIMATE RECOMBINATION BY DRUG RESISTANCE ...         HHS     NIH   \n",
       "\n",
       "   IC_CENTER   PROJECT_NUMBER  PROJECT_START_DATE  PROJECT_END_DATE  \\\n",
       "0      NCBDD  2R44DD001127-02           9/30/2017         9/29/2019   \n",
       "1        NEI  5R01EY024567-06            9/1/2014         6/30/2019   \n",
       "2        NCI  1R21CA223112-01           12/7/2017        11/30/2019   \n",
       "3      NICHD  5R21HD088775-02            9/1/2017         8/31/2019   \n",
       "4      NIGMS  5R01GM025326-38            7/1/1978         1/31/2020   \n",
       "\n",
       "   CONTACT_PI_PROJECT_LEADER  ...  ORGANIZATION_CITY  ORGANIZATION_STATE  \\\n",
       "0              MARKHAM, GLEN  ...            MIDLAND                  MI   \n",
       "1       FIELD, GREGORY DARIN  ...             DURHAM                  NC   \n",
       "2                LIM, KIAN H  ...        SAINT LOUIS                  MO   \n",
       "3      HOUTEN, SANDER MICHEL  ...           NEW YORK                  NY   \n",
       "4         KLECKNER, NANCY E.  ...          CAMBRIDGE                  MA   \n",
       "\n",
       "    ORGANIZATION_ZIP  ORGANIZATION_COUNTRY  BUDGET_START_DATE  \\\n",
       "0          486415039         UNITED STATES          9/30/2017   \n",
       "1          277054673         UNITED STATES           7/1/2018   \n",
       "2          631304862         UNITED STATES          12/7/2017   \n",
       "3          100296574         UNITED STATES           9/1/2018   \n",
       "4          021385319         UNITED STATES           2/1/2018   \n",
       "\n",
       "   BUDGET_END_DATE  CFDA_CODE    FY  FY_TOTAL_COST  FY_TOTAL_COST_SUB_PROJECTS  \n",
       "0        9/29/2018      103.0  2018       499961.0                         NaN  \n",
       "1        6/30/2019      867.0  2018       397500.0                         NaN  \n",
       "2       11/30/2018      395.0  2018       165844.0                         NaN  \n",
       "3        8/31/2019      865.0  2018       169500.0                         NaN  \n",
       "4        1/31/2019      859.0  2018       667755.0                         NaN  \n",
       "\n",
       "[5 rows x 24 columns]"
      ]
     },
     "execution_count": 266,
     "metadata": {},
     "output_type": "execute_result"
    }
   ],
   "source": [
    "df_2018.head()"
   ]
  },
  {
   "cell_type": "code",
   "execution_count": 267,
   "metadata": {},
   "outputs": [
    {
     "data": {
      "text/plain": [
       "Index(['PROJECT_ID', ' PROJECT_TERMS', ' PROJECT_TITLE', ' DEPARTMENT',\n",
       "       ' AGENCY', ' IC_CENTER', ' PROJECT_NUMBER', ' PROJECT_START_DATE',\n",
       "       ' PROJECT_END_DATE', ' CONTACT_PI_PROJECT_LEADER', ' OTHER_PIS',\n",
       "       ' CONGRESSIONAL_DISTRICT', ' DUNS_NUMBER', ' ORGANIZATION_NAME',\n",
       "       ' ORGANIZATION_CITY', ' ORGANIZATION_STATE', ' ORGANIZATION_ZIP',\n",
       "       ' ORGANIZATION_COUNTRY', ' BUDGET_START_DATE', ' BUDGET_END_DATE',\n",
       "       ' CFDA_CODE', ' FY', ' FY_TOTAL_COST', ' FY_TOTAL_COST_SUB_PROJECTS'],\n",
       "      dtype='object')"
      ]
     },
     "execution_count": 267,
     "metadata": {},
     "output_type": "execute_result"
    }
   ],
   "source": [
    "df_2018.columns"
   ]
  },
  {
   "cell_type": "code",
   "execution_count": 268,
   "metadata": {},
   "outputs": [
    {
     "data": {
      "text/plain": [
       "Index(['PROJECT_ID', ' PROJECT_TERMS', ' PROJECT_TITLE', ' DEPARTMENT',\n",
       "       ' AGENCY', ' IC_CENTER', ' PROJECT_NUMBER', ' PROJECT_START_DATE',\n",
       "       ' PROJECT_END_DATE', ' CONTACT_PI_PROJECT_LEADER', ' OTHER_PIS',\n",
       "       ' CONGRESSIONAL_DISTRICT', ' DUNS_NUMBER', ' ORGANIZATION_NAME',\n",
       "       ' ORGANIZATION_CITY', ' ORGANIZATION_STATE', ' ORGANIZATION_ZIP',\n",
       "       ' ORGANIZATION_COUNTRY', ' BUDGET_START_DATE', ' BUDGET_END_DATE',\n",
       "       ' CFDA_CODE', ' FY', ' FY_TOTAL_COST', ' FY_TOTAL_COST_SUB_PROJECTS'],\n",
       "      dtype='object')"
      ]
     },
     "execution_count": 268,
     "metadata": {},
     "output_type": "execute_result"
    }
   ],
   "source": [
    "df_2018.columns"
   ]
  },
  {
   "cell_type": "code",
   "execution_count": 269,
   "metadata": {},
   "outputs": [
    {
     "data": {
      "text/plain": [
       "27"
      ]
     },
     "execution_count": 269,
     "metadata": {},
     "output_type": "execute_result"
    }
   ],
   "source": [
    "nih_agencys = list(df_2018[df_2018[' AGENCY']=='NIH'][' IC_CENTER'].unique())\n",
    "len(nih_agencys)"
   ]
  },
  {
   "cell_type": "code",
   "execution_count": 270,
   "metadata": {},
   "outputs": [
    {
     "data": {
      "text/plain": [
       "28"
      ]
     },
     "execution_count": 270,
     "metadata": {},
     "output_type": "execute_result"
    }
   ],
   "source": [
    "nih_agencys = nih_agencys + ['NCRR']\n",
    "len(nih_agencys)"
   ]
  },
  {
   "cell_type": "code",
   "execution_count": 271,
   "metadata": {},
   "outputs": [
    {
     "data": {
      "text/plain": [
       "(4774, 11)"
      ]
     },
     "execution_count": 271,
     "metadata": {},
     "output_type": "execute_result"
    }
   ],
   "source": [
    "df = df[df['Agency'].isin(nih_agencys)]\n",
    "df.shape"
   ]
  },
  {
   "cell_type": "code",
   "execution_count": 272,
   "metadata": {},
   "outputs": [
    {
     "data": {
      "text/html": [
       "<div>\n",
       "<style scoped>\n",
       "    .dataframe tbody tr th:only-of-type {\n",
       "        vertical-align: middle;\n",
       "    }\n",
       "\n",
       "    .dataframe tbody tr th {\n",
       "        vertical-align: top;\n",
       "    }\n",
       "\n",
       "    .dataframe thead th {\n",
       "        text-align: right;\n",
       "    }\n",
       "</style>\n",
       "<table border=\"1\" class=\"dataframe\">\n",
       "  <thead>\n",
       "    <tr style=\"text-align: right;\">\n",
       "      <th></th>\n",
       "      <th>Project Number</th>\n",
       "      <th>Title</th>\n",
       "      <th>Agency</th>\n",
       "      <th>PI</th>\n",
       "      <th>Univ</th>\n",
       "      <th>Country</th>\n",
       "      <th>Fiscal Year</th>\n",
       "      <th>Total Cost</th>\n",
       "      <th>Start Year</th>\n",
       "      <th>End Year</th>\n",
       "      <th>Delta_years</th>\n",
       "    </tr>\n",
       "  </thead>\n",
       "  <tbody>\n",
       "    <tr>\n",
       "      <th>1</th>\n",
       "      <td>1R01LM012734-01</td>\n",
       "      <td>MECHANISTIC MACHINE LEARNING</td>\n",
       "      <td>NLM</td>\n",
       "      <td>ALBERS, DAVID J.</td>\n",
       "      <td>COLUMBIA UNIVERSITY HEALTH SCIENCES</td>\n",
       "      <td>UNITED STATES</td>\n",
       "      <td>2017</td>\n",
       "      <td>698661.0</td>\n",
       "      <td>2017-09-20</td>\n",
       "      <td>2020-08-31</td>\n",
       "      <td>3.0</td>\n",
       "    </tr>\n",
       "    <tr>\n",
       "      <th>2</th>\n",
       "      <td>1ZIALM010004-02</td>\n",
       "      <td>IMAGE ANALYSIS AND MACHINE LEARNING FOR PULMON...</td>\n",
       "      <td>NLM</td>\n",
       "      <td>ANTANI, SAMEER</td>\n",
       "      <td>NATIONAL INSTITUTES OF HEALTH</td>\n",
       "      <td>UNITED STATES</td>\n",
       "      <td>2017</td>\n",
       "      <td>303476.0</td>\n",
       "      <td>NaT</td>\n",
       "      <td>NaT</td>\n",
       "      <td>NaN</td>\n",
       "    </tr>\n",
       "    <tr>\n",
       "      <th>3</th>\n",
       "      <td>261201700515P-0-0-1</td>\n",
       "      <td>IGF::OT::IGF MACHINE LEARNING METHODS TO IDENT...</td>\n",
       "      <td>NCI</td>\n",
       "      <td>BANERJEE, MOUSUMI</td>\n",
       "      <td>NaN</td>\n",
       "      <td>UNITED STATES</td>\n",
       "      <td>2017</td>\n",
       "      <td>24500.0</td>\n",
       "      <td>2017-09-15</td>\n",
       "      <td>2018-09-14</td>\n",
       "      <td>1.0</td>\n",
       "    </tr>\n",
       "    <tr>\n",
       "      <th>4</th>\n",
       "      <td>5R21MH110758-02</td>\n",
       "      <td>MACHINE LEARNING AND PERSONALIZED PROGNOSIS FO...</td>\n",
       "      <td>NIMH</td>\n",
       "      <td>BEEVERS, CHRISTOPHER G</td>\n",
       "      <td>UNIVERSITY OF TEXAS AUSTIN</td>\n",
       "      <td>UNITED STATES</td>\n",
       "      <td>2017</td>\n",
       "      <td>195625.0</td>\n",
       "      <td>2016-07-01</td>\n",
       "      <td>2019-05-31</td>\n",
       "      <td>3.0</td>\n",
       "    </tr>\n",
       "    <tr>\n",
       "      <th>6</th>\n",
       "      <td>1R21EY027945-01</td>\n",
       "      <td>MACHINE LEARNING METHODS FOR DETECTING DISEASE...</td>\n",
       "      <td>NEI</td>\n",
       "      <td>BOWD, CHRISTOPHER</td>\n",
       "      <td>UNIVERSITY OF CALIFORNIA SAN DIEGO</td>\n",
       "      <td>UNITED STATES</td>\n",
       "      <td>2017</td>\n",
       "      <td>232500.0</td>\n",
       "      <td>2017-07-01</td>\n",
       "      <td>2019-06-30</td>\n",
       "      <td>2.0</td>\n",
       "    </tr>\n",
       "  </tbody>\n",
       "</table>\n",
       "</div>"
      ],
      "text/plain": [
       "        Project Number                                              Title  \\\n",
       "1      1R01LM012734-01                       MECHANISTIC MACHINE LEARNING   \n",
       "2      1ZIALM010004-02  IMAGE ANALYSIS AND MACHINE LEARNING FOR PULMON...   \n",
       "3  261201700515P-0-0-1  IGF::OT::IGF MACHINE LEARNING METHODS TO IDENT...   \n",
       "4      5R21MH110758-02  MACHINE LEARNING AND PERSONALIZED PROGNOSIS FO...   \n",
       "6      1R21EY027945-01  MACHINE LEARNING METHODS FOR DETECTING DISEASE...   \n",
       "\n",
       "  Agency                      PI                                 Univ  \\\n",
       "1    NLM        ALBERS, DAVID J.  COLUMBIA UNIVERSITY HEALTH SCIENCES   \n",
       "2    NLM          ANTANI, SAMEER        NATIONAL INSTITUTES OF HEALTH   \n",
       "3    NCI       BANERJEE, MOUSUMI                                  NaN   \n",
       "4   NIMH  BEEVERS, CHRISTOPHER G           UNIVERSITY OF TEXAS AUSTIN   \n",
       "6    NEI       BOWD, CHRISTOPHER   UNIVERSITY OF CALIFORNIA SAN DIEGO   \n",
       "\n",
       "         Country  Fiscal Year  Total Cost Start Year   End Year  Delta_years  \n",
       "1  UNITED STATES         2017    698661.0 2017-09-20 2020-08-31          3.0  \n",
       "2  UNITED STATES         2017    303476.0        NaT        NaT          NaN  \n",
       "3  UNITED STATES         2017     24500.0 2017-09-15 2018-09-14          1.0  \n",
       "4  UNITED STATES         2017    195625.0 2016-07-01 2019-05-31          3.0  \n",
       "6  UNITED STATES         2017    232500.0 2017-07-01 2019-06-30          2.0  "
      ]
     },
     "execution_count": 272,
     "metadata": {},
     "output_type": "execute_result"
    }
   ],
   "source": [
    "df.head()"
   ]
  },
  {
   "cell_type": "code",
   "execution_count": 273,
   "metadata": {},
   "outputs": [
    {
     "name": "stdout",
     "output_type": "stream",
     "text": [
      "K01\n"
     ]
    },
    {
     "name": "stderr",
     "output_type": "stream",
     "text": [
      "<>:5: DeprecationWarning: invalid escape sequence \\d\n",
      "<>:5: DeprecationWarning: invalid escape sequence \\d\n",
      "<>:5: DeprecationWarning: invalid escape sequence \\d\n",
      "<ipython-input-273-4da00e37f8b4>:5: DeprecationWarning: invalid escape sequence \\d\n",
      "  m = re.search('[A-Za-z]\\d{2}', text)\n"
     ]
    }
   ],
   "source": [
    "import re\n",
    "\n",
    "text = '1K01LM012734-01'\n",
    "\n",
    "m = re.search('[A-Za-z]\\d{2}', text)\n",
    "if m:\n",
    "    found = m.group(0)\n",
    "    print(found)"
   ]
  },
  {
   "cell_type": "code",
   "execution_count": 274,
   "metadata": {},
   "outputs": [
    {
     "name": "stderr",
     "output_type": "stream",
     "text": [
      "<>:4: DeprecationWarning: invalid escape sequence \\d\n",
      "<>:4: DeprecationWarning: invalid escape sequence \\d\n",
      "<>:4: DeprecationWarning: invalid escape sequence \\d\n",
      "<ipython-input-274-018677d77ef5>:4: DeprecationWarning: invalid escape sequence \\d\n",
      "  m = re.search('[A-Za-z]\\d{2}', text)\n"
     ]
    },
    {
     "data": {
      "text/html": [
       "<div>\n",
       "<style scoped>\n",
       "    .dataframe tbody tr th:only-of-type {\n",
       "        vertical-align: middle;\n",
       "    }\n",
       "\n",
       "    .dataframe tbody tr th {\n",
       "        vertical-align: top;\n",
       "    }\n",
       "\n",
       "    .dataframe thead th {\n",
       "        text-align: right;\n",
       "    }\n",
       "</style>\n",
       "<table border=\"1\" class=\"dataframe\">\n",
       "  <thead>\n",
       "    <tr style=\"text-align: right;\">\n",
       "      <th></th>\n",
       "      <th>Agency</th>\n",
       "      <th>Country</th>\n",
       "      <th>Delta_years</th>\n",
       "      <th>End Year</th>\n",
       "      <th>Fiscal Year</th>\n",
       "      <th>PI</th>\n",
       "      <th>Project Number</th>\n",
       "      <th>Project Type</th>\n",
       "      <th>Start Year</th>\n",
       "      <th>Title</th>\n",
       "      <th>Total Cost</th>\n",
       "      <th>Univ</th>\n",
       "    </tr>\n",
       "  </thead>\n",
       "  <tbody>\n",
       "    <tr>\n",
       "      <th>1</th>\n",
       "      <td>NLM</td>\n",
       "      <td>UNITED STATES</td>\n",
       "      <td>3.0</td>\n",
       "      <td>2020-08-31</td>\n",
       "      <td>2017</td>\n",
       "      <td>ALBERS, DAVID J.</td>\n",
       "      <td>1R01LM012734-01</td>\n",
       "      <td>R01</td>\n",
       "      <td>2017-09-20</td>\n",
       "      <td>MECHANISTIC MACHINE LEARNING</td>\n",
       "      <td>698661.0</td>\n",
       "      <td>COLUMBIA UNIVERSITY HEALTH SCIENCES</td>\n",
       "    </tr>\n",
       "    <tr>\n",
       "      <th>2</th>\n",
       "      <td>NLM</td>\n",
       "      <td>UNITED STATES</td>\n",
       "      <td>NaN</td>\n",
       "      <td>NaT</td>\n",
       "      <td>2017</td>\n",
       "      <td>ANTANI, SAMEER</td>\n",
       "      <td>1ZIALM010004-02</td>\n",
       "      <td>M01</td>\n",
       "      <td>NaT</td>\n",
       "      <td>IMAGE ANALYSIS AND MACHINE LEARNING FOR PULMON...</td>\n",
       "      <td>303476.0</td>\n",
       "      <td>NATIONAL INSTITUTES OF HEALTH</td>\n",
       "    </tr>\n",
       "    <tr>\n",
       "      <th>3</th>\n",
       "      <td>NCI</td>\n",
       "      <td>UNITED STATES</td>\n",
       "      <td>1.0</td>\n",
       "      <td>2018-09-14</td>\n",
       "      <td>2017</td>\n",
       "      <td>BANERJEE, MOUSUMI</td>\n",
       "      <td>261201700515P-0-0-1</td>\n",
       "      <td>NaN</td>\n",
       "      <td>2017-09-15</td>\n",
       "      <td>IGF::OT::IGF MACHINE LEARNING METHODS TO IDENT...</td>\n",
       "      <td>24500.0</td>\n",
       "      <td>NaN</td>\n",
       "    </tr>\n",
       "    <tr>\n",
       "      <th>4</th>\n",
       "      <td>NIMH</td>\n",
       "      <td>UNITED STATES</td>\n",
       "      <td>3.0</td>\n",
       "      <td>2019-05-31</td>\n",
       "      <td>2017</td>\n",
       "      <td>BEEVERS, CHRISTOPHER G</td>\n",
       "      <td>5R21MH110758-02</td>\n",
       "      <td>R21</td>\n",
       "      <td>2016-07-01</td>\n",
       "      <td>MACHINE LEARNING AND PERSONALIZED PROGNOSIS FO...</td>\n",
       "      <td>195625.0</td>\n",
       "      <td>UNIVERSITY OF TEXAS AUSTIN</td>\n",
       "    </tr>\n",
       "    <tr>\n",
       "      <th>6</th>\n",
       "      <td>NEI</td>\n",
       "      <td>UNITED STATES</td>\n",
       "      <td>2.0</td>\n",
       "      <td>2019-06-30</td>\n",
       "      <td>2017</td>\n",
       "      <td>BOWD, CHRISTOPHER</td>\n",
       "      <td>1R21EY027945-01</td>\n",
       "      <td>R21</td>\n",
       "      <td>2017-07-01</td>\n",
       "      <td>MACHINE LEARNING METHODS FOR DETECTING DISEASE...</td>\n",
       "      <td>232500.0</td>\n",
       "      <td>UNIVERSITY OF CALIFORNIA SAN DIEGO</td>\n",
       "    </tr>\n",
       "  </tbody>\n",
       "</table>\n",
       "</div>"
      ],
      "text/plain": [
       "  Agency        Country  Delta_years   End Year  Fiscal Year  \\\n",
       "1    NLM  UNITED STATES          3.0 2020-08-31         2017   \n",
       "2    NLM  UNITED STATES          NaN        NaT         2017   \n",
       "3    NCI  UNITED STATES          1.0 2018-09-14         2017   \n",
       "4   NIMH  UNITED STATES          3.0 2019-05-31         2017   \n",
       "6    NEI  UNITED STATES          2.0 2019-06-30         2017   \n",
       "\n",
       "                       PI       Project Number Project Type Start Year  \\\n",
       "1        ALBERS, DAVID J.      1R01LM012734-01          R01 2017-09-20   \n",
       "2          ANTANI, SAMEER      1ZIALM010004-02          M01        NaT   \n",
       "3       BANERJEE, MOUSUMI  261201700515P-0-0-1          NaN 2017-09-15   \n",
       "4  BEEVERS, CHRISTOPHER G      5R21MH110758-02          R21 2016-07-01   \n",
       "6       BOWD, CHRISTOPHER      1R21EY027945-01          R21 2017-07-01   \n",
       "\n",
       "                                               Title  Total Cost  \\\n",
       "1                       MECHANISTIC MACHINE LEARNING    698661.0   \n",
       "2  IMAGE ANALYSIS AND MACHINE LEARNING FOR PULMON...    303476.0   \n",
       "3  IGF::OT::IGF MACHINE LEARNING METHODS TO IDENT...     24500.0   \n",
       "4  MACHINE LEARNING AND PERSONALIZED PROGNOSIS FO...    195625.0   \n",
       "6  MACHINE LEARNING METHODS FOR DETECTING DISEASE...    232500.0   \n",
       "\n",
       "                                  Univ  \n",
       "1  COLUMBIA UNIVERSITY HEALTH SCIENCES  \n",
       "2        NATIONAL INSTITUTES OF HEALTH  \n",
       "3                                  NaN  \n",
       "4           UNIVERSITY OF TEXAS AUSTIN  \n",
       "6   UNIVERSITY OF CALIFORNIA SAN DIEGO  "
      ]
     },
     "execution_count": 274,
     "metadata": {},
     "output_type": "execute_result"
    }
   ],
   "source": [
    "import re\n",
    "def extract_ptype(x):\n",
    "    text = x['Project Number']\n",
    "    m = re.search('[A-Za-z]\\d{2}', text)\n",
    "    if m:\n",
    "        found = m.group(0)\n",
    "#         print(found)\n",
    "        x['Project Type'] = found\n",
    "    return x\n",
    "    \n",
    "df = df.apply(extract_ptype, axis=1)\n",
    "df.head()"
   ]
  },
  {
   "cell_type": "code",
   "execution_count": 275,
   "metadata": {},
   "outputs": [],
   "source": [
    "df.to_csv(path.join(data_path, 'processed_NIH.csv'), index=None)"
   ]
  },
  {
   "cell_type": "markdown",
   "metadata": {},
   "source": [
    "## analysis the data"
   ]
  },
  {
   "cell_type": "code",
   "execution_count": 276,
   "metadata": {},
   "outputs": [
    {
     "data": {
      "text/plain": [
       "(4774, 12)"
      ]
     },
     "execution_count": 276,
     "metadata": {},
     "output_type": "execute_result"
    }
   ],
   "source": [
    "# read the data\n",
    "df = pd.read_csv(path.join(data_path, 'processed_NIH.csv'))\n",
    "df.shape"
   ]
  },
  {
   "cell_type": "code",
   "execution_count": 277,
   "metadata": {},
   "outputs": [],
   "source": [
    "output_path ='data/statistics_for_plot'"
   ]
  },
  {
   "cell_type": "code",
   "execution_count": 278,
   "metadata": {},
   "outputs": [
    {
     "data": {
      "text/html": [
       "<div>\n",
       "<style scoped>\n",
       "    .dataframe tbody tr th:only-of-type {\n",
       "        vertical-align: middle;\n",
       "    }\n",
       "\n",
       "    .dataframe tbody tr th {\n",
       "        vertical-align: top;\n",
       "    }\n",
       "\n",
       "    .dataframe thead th {\n",
       "        text-align: right;\n",
       "    }\n",
       "</style>\n",
       "<table border=\"1\" class=\"dataframe\">\n",
       "  <thead>\n",
       "    <tr style=\"text-align: right;\">\n",
       "      <th></th>\n",
       "      <th>Agency</th>\n",
       "      <th>Fiscal Year</th>\n",
       "      <th>count</th>\n",
       "    </tr>\n",
       "  </thead>\n",
       "  <tbody>\n",
       "    <tr>\n",
       "      <th>0</th>\n",
       "      <td>CIT</td>\n",
       "      <td>2014-01-01</td>\n",
       "      <td>4</td>\n",
       "    </tr>\n",
       "    <tr>\n",
       "      <th>11</th>\n",
       "      <td>NCATS</td>\n",
       "      <td>2014-01-01</td>\n",
       "      <td>1</td>\n",
       "    </tr>\n",
       "    <tr>\n",
       "      <th>20</th>\n",
       "      <td>NCI</td>\n",
       "      <td>2014-01-01</td>\n",
       "      <td>69</td>\n",
       "    </tr>\n",
       "    <tr>\n",
       "      <th>25</th>\n",
       "      <td>NEI</td>\n",
       "      <td>2014-01-01</td>\n",
       "      <td>21</td>\n",
       "    </tr>\n",
       "    <tr>\n",
       "      <th>30</th>\n",
       "      <td>NHGRI</td>\n",
       "      <td>2014-01-01</td>\n",
       "      <td>27</td>\n",
       "    </tr>\n",
       "    <tr>\n",
       "      <th>35</th>\n",
       "      <td>NHLBI</td>\n",
       "      <td>2014-01-01</td>\n",
       "      <td>28</td>\n",
       "    </tr>\n",
       "    <tr>\n",
       "      <th>40</th>\n",
       "      <td>NIA</td>\n",
       "      <td>2014-01-01</td>\n",
       "      <td>24</td>\n",
       "    </tr>\n",
       "    <tr>\n",
       "      <th>45</th>\n",
       "      <td>NIAAA</td>\n",
       "      <td>2014-01-01</td>\n",
       "      <td>9</td>\n",
       "    </tr>\n",
       "    <tr>\n",
       "      <th>50</th>\n",
       "      <td>NIAID</td>\n",
       "      <td>2014-01-01</td>\n",
       "      <td>30</td>\n",
       "    </tr>\n",
       "    <tr>\n",
       "      <th>55</th>\n",
       "      <td>NIAMS</td>\n",
       "      <td>2014-01-01</td>\n",
       "      <td>5</td>\n",
       "    </tr>\n",
       "  </tbody>\n",
       "</table>\n",
       "</div>"
      ],
      "text/plain": [
       "   Agency Fiscal Year  count\n",
       "0     CIT  2014-01-01      4\n",
       "11  NCATS  2014-01-01      1\n",
       "20    NCI  2014-01-01     69\n",
       "25    NEI  2014-01-01     21\n",
       "30  NHGRI  2014-01-01     27\n",
       "35  NHLBI  2014-01-01     28\n",
       "40    NIA  2014-01-01     24\n",
       "45  NIAAA  2014-01-01      9\n",
       "50  NIAID  2014-01-01     30\n",
       "55  NIAMS  2014-01-01      5"
      ]
     },
     "execution_count": 278,
     "metadata": {},
     "output_type": "execute_result"
    }
   ],
   "source": [
    "# The top 10 funded agency\n",
    "df_agency = df.groupby(['Agency','Fiscal Year'])['Project Number'].count()\\\n",
    "                             .reset_index(name='count') \\\n",
    "                             .sort_values(['Fiscal Year','Agency'], ascending=True)\n",
    "df_agency['Fiscal Year'] = pd.to_datetime(df_agency['Fiscal Year'],format='%Y')\n",
    "df_agency.to_csv(path.join(output_path, 'agency_count_by_year.csv'), index=None)\n",
    "df_agency[:10]"
   ]
  },
  {
   "cell_type": "code",
   "execution_count": 279,
   "metadata": {},
   "outputs": [
    {
     "data": {
      "text/plain": [
       "<matplotlib.axes._subplots.AxesSubplot at 0x1a3c6e0b38>"
      ]
     },
     "execution_count": 279,
     "metadata": {},
     "output_type": "execute_result"
    },
    {
     "data": {
      "image/png": "[encoded data removed]",
      "text/plain": [
       "<Figure size 1440x360 with 1 Axes>"
      ]
     },
     "metadata": {
      "needs_background": "light"
     },
     "output_type": "display_data"
    }
   ],
   "source": [
    "plt.figure(figsize=(20,5))\n",
    "df_agency = df.groupby(['Agency'])['Project Number'].count()\\\n",
    "                             .reset_index(name='count') \\\n",
    "                             .sort_values(['count'], ascending=False)\n",
    "sns.barplot(x='Agency', y='count', data=df_agency)"
   ]
  },
  {
   "cell_type": "code",
   "execution_count": 280,
   "metadata": {},
   "outputs": [
    {
     "data": {
      "text/html": [
       "<div>\n",
       "<style scoped>\n",
       "    .dataframe tbody tr th:only-of-type {\n",
       "        vertical-align: middle;\n",
       "    }\n",
       "\n",
       "    .dataframe tbody tr th {\n",
       "        vertical-align: top;\n",
       "    }\n",
       "\n",
       "    .dataframe thead th {\n",
       "        text-align: right;\n",
       "    }\n",
       "</style>\n",
       "<table border=\"1\" class=\"dataframe\">\n",
       "  <thead>\n",
       "    <tr style=\"text-align: right;\">\n",
       "      <th></th>\n",
       "      <th>Agency</th>\n",
       "      <th>Fiscal Year</th>\n",
       "      <th>Total Cost (millon)</th>\n",
       "    </tr>\n",
       "  </thead>\n",
       "  <tbody>\n",
       "    <tr>\n",
       "      <th>0</th>\n",
       "      <td>CIT</td>\n",
       "      <td>2014-01-01</td>\n",
       "      <td>3414620.0</td>\n",
       "    </tr>\n",
       "    <tr>\n",
       "      <th>11</th>\n",
       "      <td>NCATS</td>\n",
       "      <td>2014-01-01</td>\n",
       "      <td>2020212.0</td>\n",
       "    </tr>\n",
       "    <tr>\n",
       "      <th>20</th>\n",
       "      <td>NCI</td>\n",
       "      <td>2014-01-01</td>\n",
       "      <td>29324646.0</td>\n",
       "    </tr>\n",
       "    <tr>\n",
       "      <th>25</th>\n",
       "      <td>NEI</td>\n",
       "      <td>2014-01-01</td>\n",
       "      <td>10952945.0</td>\n",
       "    </tr>\n",
       "    <tr>\n",
       "      <th>30</th>\n",
       "      <td>NHGRI</td>\n",
       "      <td>2014-01-01</td>\n",
       "      <td>19824907.0</td>\n",
       "    </tr>\n",
       "    <tr>\n",
       "      <th>35</th>\n",
       "      <td>NHLBI</td>\n",
       "      <td>2014-01-01</td>\n",
       "      <td>18252038.0</td>\n",
       "    </tr>\n",
       "    <tr>\n",
       "      <th>40</th>\n",
       "      <td>NIA</td>\n",
       "      <td>2014-01-01</td>\n",
       "      <td>9660211.0</td>\n",
       "    </tr>\n",
       "    <tr>\n",
       "      <th>45</th>\n",
       "      <td>NIAAA</td>\n",
       "      <td>2014-01-01</td>\n",
       "      <td>3748263.0</td>\n",
       "    </tr>\n",
       "    <tr>\n",
       "      <th>50</th>\n",
       "      <td>NIAID</td>\n",
       "      <td>2014-01-01</td>\n",
       "      <td>14455742.0</td>\n",
       "    </tr>\n",
       "    <tr>\n",
       "      <th>55</th>\n",
       "      <td>NIAMS</td>\n",
       "      <td>2014-01-01</td>\n",
       "      <td>1318778.0</td>\n",
       "    </tr>\n",
       "  </tbody>\n",
       "</table>\n",
       "</div>"
      ],
      "text/plain": [
       "   Agency Fiscal Year  Total Cost (millon)\n",
       "0     CIT  2014-01-01            3414620.0\n",
       "11  NCATS  2014-01-01            2020212.0\n",
       "20    NCI  2014-01-01           29324646.0\n",
       "25    NEI  2014-01-01           10952945.0\n",
       "30  NHGRI  2014-01-01           19824907.0\n",
       "35  NHLBI  2014-01-01           18252038.0\n",
       "40    NIA  2014-01-01            9660211.0\n",
       "45  NIAAA  2014-01-01            3748263.0\n",
       "50  NIAID  2014-01-01           14455742.0\n",
       "55  NIAMS  2014-01-01            1318778.0"
      ]
     },
     "execution_count": 280,
     "metadata": {},
     "output_type": "execute_result"
    }
   ],
   "source": [
    "df_agency = df.groupby(['Agency','Fiscal Year'])['Total Cost'].sum()\\\n",
    "                             .reset_index(name='Total Cost') \\\n",
    "                             .sort_values(['Fiscal Year','Agency'], ascending=True)\n",
    "df_agency['Fiscal Year'] = pd.to_datetime(df_agency['Fiscal Year'],format='%Y')\n",
    "df_agency['Total Cost'] = df_agency['Total Cost']\n",
    "df_agency.rename({'Total Cost': 'Total Cost (millon)'}, axis=1, inplace=True)\n",
    "df_agency[:10]"
   ]
  },
  {
   "cell_type": "code",
   "execution_count": 281,
   "metadata": {},
   "outputs": [],
   "source": [
    "df_agency.rename({'Agency': 'name', 'Fiscal Year': 'date', 'Total Cost (millon)': 'value'}, axis=1, inplace=True)\n",
    "df_agency['category'] = df_agency['name'] \n",
    "df_agency.to_csv(path.join(output_path, 'agency_cost_by_year.csv'), index=None)"
   ]
  },
  {
   "cell_type": "code",
   "execution_count": 282,
   "metadata": {},
   "outputs": [],
   "source": [
    "# The top 10 funded agency\n",
    "df_year = df.groupby('Fiscal Year')['Project Number'].count()\\\n",
    "                             .reset_index(name='count') \\\n",
    "                             .sort_values(['count'], ascending=False)\n",
    "df_year[:10]\n",
    "df_year.to_csv(path.join(output_path, 'project_count_by_FY.csv'), index=None)"
   ]
  },
  {
   "cell_type": "code",
   "execution_count": 283,
   "metadata": {},
   "outputs": [
    {
     "data": {
      "image/png": "[encoded data removed]",
      "text/plain": [
       "<Figure size 432x288 with 1 Axes>"
      ]
     },
     "metadata": {
      "needs_background": "light"
     },
     "output_type": "display_data"
    }
   ],
   "source": [
    "ax = sns.barplot(x='Fiscal Year', y='count', data=df_year)"
   ]
  },
  {
   "cell_type": "code",
   "execution_count": 284,
   "metadata": {},
   "outputs": [
    {
     "data": {
      "text/html": [
       "<div>\n",
       "<style scoped>\n",
       "    .dataframe tbody tr th:only-of-type {\n",
       "        vertical-align: middle;\n",
       "    }\n",
       "\n",
       "    .dataframe tbody tr th {\n",
       "        vertical-align: top;\n",
       "    }\n",
       "\n",
       "    .dataframe thead th {\n",
       "        text-align: right;\n",
       "    }\n",
       "</style>\n",
       "<table border=\"1\" class=\"dataframe\">\n",
       "  <thead>\n",
       "    <tr style=\"text-align: right;\">\n",
       "      <th></th>\n",
       "      <th>Project Type</th>\n",
       "      <th>count</th>\n",
       "    </tr>\n",
       "  </thead>\n",
       "  <tbody>\n",
       "    <tr>\n",
       "      <th>60</th>\n",
       "      <td>R01</td>\n",
       "      <td>1876</td>\n",
       "    </tr>\n",
       "    <tr>\n",
       "      <th>64</th>\n",
       "      <td>R21</td>\n",
       "      <td>284</td>\n",
       "    </tr>\n",
       "    <tr>\n",
       "      <th>89</th>\n",
       "      <td>U01</td>\n",
       "      <td>238</td>\n",
       "    </tr>\n",
       "    <tr>\n",
       "      <th>95</th>\n",
       "      <td>U54</td>\n",
       "      <td>186</td>\n",
       "    </tr>\n",
       "    <tr>\n",
       "      <th>26</th>\n",
       "      <td>K01</td>\n",
       "      <td>153</td>\n",
       "    </tr>\n",
       "    <tr>\n",
       "      <th>58</th>\n",
       "      <td>P50</td>\n",
       "      <td>146</td>\n",
       "    </tr>\n",
       "    <tr>\n",
       "      <th>55</th>\n",
       "      <td>P30</td>\n",
       "      <td>114</td>\n",
       "    </tr>\n",
       "    <tr>\n",
       "      <th>73</th>\n",
       "      <td>R43</td>\n",
       "      <td>102</td>\n",
       "    </tr>\n",
       "    <tr>\n",
       "      <th>53</th>\n",
       "      <td>P01</td>\n",
       "      <td>102</td>\n",
       "    </tr>\n",
       "    <tr>\n",
       "      <th>74</th>\n",
       "      <td>R44</td>\n",
       "      <td>99</td>\n",
       "    </tr>\n",
       "  </tbody>\n",
       "</table>\n",
       "</div>"
      ],
      "text/plain": [
       "   Project Type  count\n",
       "60          R01   1876\n",
       "64          R21    284\n",
       "89          U01    238\n",
       "95          U54    186\n",
       "26          K01    153\n",
       "58          P50    146\n",
       "55          P30    114\n",
       "73          R43    102\n",
       "53          P01    102\n",
       "74          R44     99"
      ]
     },
     "execution_count": 284,
     "metadata": {},
     "output_type": "execute_result"
    }
   ],
   "source": [
    "df_type = df.groupby('Project Type')['Project Number'].count()\\\n",
    "                             .reset_index(name='count') \\\n",
    "                             .sort_values(['count'], ascending=False)\n",
    "df_type[:10]"
   ]
  },
  {
   "cell_type": "code",
   "execution_count": 285,
   "metadata": {},
   "outputs": [
    {
     "data": {
      "text/plain": [
       "array(['R01', 'R21', 'U01', 'U54', 'K01', 'P50', 'P30', 'R43', 'P01',\n",
       "       'R44', 'K23', 'F31', 'U19', 'F32', 'R00', 'K99', 'U24', 'R03',\n",
       "       'R25', 'R56', 'F30', 'R35', 'G00', 'T32', 'R41', 'K08', 'K24',\n",
       "       'H00', 'P41', 'R24', 'K02', 'T00', 'U41', 'K25', 'R33', 'R13',\n",
       "       'R15', 'P20', 'M01', 'L00', 'R42', 'A00', 'C01', 'D00', 'S10',\n",
       "       'S00', 'K22', 'R37', 'M00', 'D02', 'M09', 'A20', 'K07', 'M20',\n",
       "       'T15', 'M11', 'S04', 'R34', 'R90', 'G05', 'T90', 'D01', 'S03',\n",
       "       'Y00', 'P42', 'K11', 'A23', 'B02', 'F99', 'H11', 'K00', 'K04',\n",
       "       'M10', 'L04', 'K18', 'M12', 'L14', 'K10', 'S08', 'G20', 'K43',\n",
       "       'K76', 'R61', 'S02', 'M13', 'U18', 'A22', 'U44', 'C00', 'L06',\n",
       "       'D08', 'G04', 'G06', 'S16', 'H09', 'I13', 'I00'], dtype=object)"
      ]
     },
     "execution_count": 285,
     "metadata": {},
     "output_type": "execute_result"
    }
   ],
   "source": [
    "df_type['Project Type'].unique()"
   ]
  },
  {
   "cell_type": "code",
   "execution_count": 286,
   "metadata": {},
   "outputs": [
    {
     "data": {
      "image/png": "[encoded data removed]",
      "text/plain": [
       "<Figure size 432x288 with 1 Axes>"
      ]
     },
     "metadata": {
      "needs_background": "light"
     },
     "output_type": "display_data"
    }
   ],
   "source": [
    "ax = sns.barplot(x='Project Type', y='count', data=df_type[:10])"
   ]
  },
  {
   "cell_type": "code",
   "execution_count": 287,
   "metadata": {},
   "outputs": [
    {
     "data": {
      "text/html": [
       "<div>\n",
       "<style scoped>\n",
       "    .dataframe tbody tr th:only-of-type {\n",
       "        vertical-align: middle;\n",
       "    }\n",
       "\n",
       "    .dataframe tbody tr th {\n",
       "        vertical-align: top;\n",
       "    }\n",
       "\n",
       "    .dataframe thead th {\n",
       "        text-align: right;\n",
       "    }\n",
       "</style>\n",
       "<table border=\"1\" class=\"dataframe\">\n",
       "  <thead>\n",
       "    <tr style=\"text-align: right;\">\n",
       "      <th></th>\n",
       "      <th>Univ</th>\n",
       "      <th>count</th>\n",
       "    </tr>\n",
       "  </thead>\n",
       "  <tbody>\n",
       "    <tr>\n",
       "      <th>207</th>\n",
       "      <td>national institutes of health</td>\n",
       "      <td>206</td>\n",
       "    </tr>\n",
       "    <tr>\n",
       "      <th>313</th>\n",
       "      <td>stanford university</td>\n",
       "      <td>196</td>\n",
       "    </tr>\n",
       "    <tr>\n",
       "      <th>331</th>\n",
       "      <td>the university of pittsburgh</td>\n",
       "      <td>161</td>\n",
       "    </tr>\n",
       "    <tr>\n",
       "      <th>354</th>\n",
       "      <td>university of california san diego</td>\n",
       "      <td>120</td>\n",
       "    </tr>\n",
       "    <tr>\n",
       "      <th>423</th>\n",
       "      <td>university of wisconsin madison</td>\n",
       "      <td>119</td>\n",
       "    </tr>\n",
       "    <tr>\n",
       "      <th>351</th>\n",
       "      <td>university of california los angeles</td>\n",
       "      <td>116</td>\n",
       "    </tr>\n",
       "    <tr>\n",
       "      <th>400</th>\n",
       "      <td>university of pennsylvania</td>\n",
       "      <td>104</td>\n",
       "    </tr>\n",
       "    <tr>\n",
       "      <th>384</th>\n",
       "      <td>university of michigan at ann arbor</td>\n",
       "      <td>94</td>\n",
       "    </tr>\n",
       "    <tr>\n",
       "      <th>133</th>\n",
       "      <td>harvard university</td>\n",
       "      <td>93</td>\n",
       "    </tr>\n",
       "    <tr>\n",
       "      <th>422</th>\n",
       "      <td>university of washington</td>\n",
       "      <td>93</td>\n",
       "    </tr>\n",
       "    <tr>\n",
       "      <th>81</th>\n",
       "      <td>columbia university health sciences</td>\n",
       "      <td>89</td>\n",
       "    </tr>\n",
       "    <tr>\n",
       "      <th>393</th>\n",
       "      <td>university of north carolina chapel hill</td>\n",
       "      <td>78</td>\n",
       "    </tr>\n",
       "    <tr>\n",
       "      <th>328</th>\n",
       "      <td>the johns hopkins university</td>\n",
       "      <td>78</td>\n",
       "    </tr>\n",
       "    <tr>\n",
       "      <th>439</th>\n",
       "      <td>washington university</td>\n",
       "      <td>68</td>\n",
       "    </tr>\n",
       "    <tr>\n",
       "      <th>355</th>\n",
       "      <td>university of california san francisco</td>\n",
       "      <td>65</td>\n",
       "    </tr>\n",
       "    <tr>\n",
       "      <th>184</th>\n",
       "      <td>massachusetts general hospital</td>\n",
       "      <td>63</td>\n",
       "    </tr>\n",
       "    <tr>\n",
       "      <th>201</th>\n",
       "      <td>mount sinai school of medicine</td>\n",
       "      <td>59</td>\n",
       "    </tr>\n",
       "    <tr>\n",
       "      <th>106</th>\n",
       "      <td>emory university</td>\n",
       "      <td>55</td>\n",
       "    </tr>\n",
       "    <tr>\n",
       "      <th>242</th>\n",
       "      <td>oregon health and science university</td>\n",
       "      <td>51</td>\n",
       "    </tr>\n",
       "    <tr>\n",
       "      <th>405</th>\n",
       "      <td>university of southern california</td>\n",
       "      <td>50</td>\n",
       "    </tr>\n",
       "  </tbody>\n",
       "</table>\n",
       "</div>"
      ],
      "text/plain": [
       "                                         Univ  count\n",
       "207             national institutes of health    206\n",
       "313                       stanford university    196\n",
       "331              the university of pittsburgh    161\n",
       "354        university of california san diego    120\n",
       "423           university of wisconsin madison    119\n",
       "351      university of california los angeles    116\n",
       "400                university of pennsylvania    104\n",
       "384       university of michigan at ann arbor     94\n",
       "133                        harvard university     93\n",
       "422                  university of washington     93\n",
       "81        columbia university health sciences     89\n",
       "393  university of north carolina chapel hill     78\n",
       "328              the johns hopkins university     78\n",
       "439                     washington university     68\n",
       "355    university of california san francisco     65\n",
       "184            massachusetts general hospital     63\n",
       "201            mount sinai school of medicine     59\n",
       "106                          emory university     55\n",
       "242      oregon health and science university     51\n",
       "405         university of southern california     50"
      ]
     },
     "execution_count": 287,
     "metadata": {},
     "output_type": "execute_result"
    }
   ],
   "source": [
    "# The top 10 funded agency\n",
    "df_univ = df.groupby('Univ')['Project Number'].count()\\\n",
    "                             .reset_index(name='count') \\\n",
    "                             .sort_values(['count'], ascending=False)\n",
    "df_univ['Univ']= df_univ['Univ'].str.lower()\n",
    "df_univ[:20]"
   ]
  },
  {
   "cell_type": "code",
   "execution_count": 288,
   "metadata": {},
   "outputs": [
    {
     "data": {
      "text/plain": [
       "<matplotlib.axes._subplots.AxesSubplot at 0x1a3b8e6b70>"
      ]
     },
     "execution_count": 288,
     "metadata": {},
     "output_type": "execute_result"
    },
    {
     "data": {
      "image/png": "[encoded data removed]",
      "text/plain": [
       "<Figure size 432x288 with 1 Axes>"
      ]
     },
     "metadata": {
      "needs_background": "light"
     },
     "output_type": "display_data"
    }
   ],
   "source": [
    "sns.boxplot(df['Delta_years'])"
   ]
  },
  {
   "cell_type": "code",
   "execution_count": 289,
   "metadata": {},
   "outputs": [
    {
     "data": {
      "text/plain": [
       "4.0"
      ]
     },
     "execution_count": 289,
     "metadata": {},
     "output_type": "execute_result"
    }
   ],
   "source": [
    "df['Delta_years'].median()"
   ]
  },
  {
   "cell_type": "code",
   "execution_count": 290,
   "metadata": {},
   "outputs": [
    {
     "data": {
      "text/plain": [
       "3.5942028985507246"
      ]
     },
     "execution_count": 290,
     "metadata": {},
     "output_type": "execute_result"
    }
   ],
   "source": [
    "df['Delta_years'].mean()"
   ]
  },
  {
   "cell_type": "code",
   "execution_count": 291,
   "metadata": {},
   "outputs": [
    {
     "data": {
      "text/plain": [
       "<matplotlib.axes._subplots.AxesSubplot at 0x1a36f02240>"
      ]
     },
     "execution_count": 291,
     "metadata": {},
     "output_type": "execute_result"
    },
    {
     "data": {
      "image/png": "[encoded data removed]",
      "text/plain": [
       "<Figure size 432x288 with 1 Axes>"
      ]
     },
     "metadata": {
      "needs_background": "light"
     },
     "output_type": "display_data"
    }
   ],
   "source": [
    "sns.boxplot(df['Total Cost']/10000)"
   ]
  },
  {
   "cell_type": "code",
   "execution_count": 292,
   "metadata": {},
   "outputs": [
    {
     "data": {
      "text/plain": [
       "48.99372218494443"
      ]
     },
     "execution_count": 292,
     "metadata": {},
     "output_type": "execute_result"
    }
   ],
   "source": [
    "df['Total Cost'].mean()/10000"
   ]
  },
  {
   "cell_type": "code",
   "execution_count": 293,
   "metadata": {},
   "outputs": [
    {
     "data": {
      "text/plain": [
       "489937.2218494443"
      ]
     },
     "execution_count": 293,
     "metadata": {},
     "output_type": "execute_result"
    }
   ],
   "source": [
    "df['Total Cost'].mean()"
   ]
  }
 ],
 "metadata": {
  "kernelspec": {
   "display_name": "Python 3",
   "language": "python",
   "name": "python3"
  },
  "language_info": {
   "codemirror_mode": {
    "name": "ipython",
    "version": 3
   },
   "file_extension": ".py",
   "mimetype": "text/x-python",
   "name": "python",
   "nbconvert_exporter": "python",
   "pygments_lexer": "ipython3",
   "version": "3.6.6"
  }
 },
 "nbformat": 4,
 "nbformat_minor": 2
}
