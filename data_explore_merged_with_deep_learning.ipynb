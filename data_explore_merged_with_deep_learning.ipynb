{
 "cells": [
  {
   "cell_type": "code",
   "execution_count": 187,
   "metadata": {},
   "outputs": [],
   "source": [
    "import pandas as pd\n",
    "import numpy as np\n",
    "import seaborn as sns\n",
    "from os import path\n",
    "import matplotlib.pyplot as plt\n",
    "%matplotlib inline"
   ]
  },
  {
   "cell_type": "code",
   "execution_count": 188,
   "metadata": {},
   "outputs": [],
   "source": [
    "data_path ='data/federalreporter_deep_learning'"
   ]
  },
  {
   "cell_type": "code",
   "execution_count": 189,
   "metadata": {},
   "outputs": [
    {
     "data": {
      "text/plain": [
       "(1362, 12)"
      ]
     },
     "execution_count": 189,
     "metadata": {},
     "output_type": "execute_result"
    }
   ],
   "source": [
    "df = pd.read_csv(path.join(data_path, 'federalreporter_deep_learning_20200303.csv'), delimiter = '|', header=None,\n",
    "                names =['Project Number', 'Title', 'Agency', 'PI', 'Univ','Country', 'Fiscal Year', \n",
    "                        'Total Cost','Start Year','End Year', 'Budget_Start_Year', 'Budget_End_Year' ],thousands=',')\n",
    "df.shape"
   ]
  },
  {
   "cell_type": "code",
   "execution_count": 190,
   "metadata": {},
   "outputs": [
    {
     "data": {
      "text/html": [
       "<div>\n",
       "<style scoped>\n",
       "    .dataframe tbody tr th:only-of-type {\n",
       "        vertical-align: middle;\n",
       "    }\n",
       "\n",
       "    .dataframe tbody tr th {\n",
       "        vertical-align: top;\n",
       "    }\n",
       "\n",
       "    .dataframe thead th {\n",
       "        text-align: right;\n",
       "    }\n",
       "</style>\n",
       "<table border=\"1\" class=\"dataframe\">\n",
       "  <thead>\n",
       "    <tr style=\"text-align: right;\">\n",
       "      <th></th>\n",
       "      <th>Project Number</th>\n",
       "      <th>Title</th>\n",
       "      <th>Agency</th>\n",
       "      <th>PI</th>\n",
       "      <th>Univ</th>\n",
       "      <th>Country</th>\n",
       "      <th>Fiscal Year</th>\n",
       "      <th>Total Cost</th>\n",
       "      <th>Start Year</th>\n",
       "      <th>End Year</th>\n",
       "      <th>Budget_Start_Year</th>\n",
       "      <th>Budget_End_Year</th>\n",
       "    </tr>\n",
       "  </thead>\n",
       "  <tbody>\n",
       "    <tr>\n",
       "      <th>0</th>\n",
       "      <td>1ZIACT000272-11</td>\n",
       "      <td>BIOMEDICAL IMAGE ANALYSIS AND INFORMATICS</td>\n",
       "      <td>CIT</td>\n",
       "      <td>MCAULIFFE, MATTHEW</td>\n",
       "      <td>NATIONAL INSTITUTES OF HEALTH</td>\n",
       "      <td>UNITED STATES</td>\n",
       "      <td>2018</td>\n",
       "      <td>1041664.0</td>\n",
       "      <td>NaN</td>\n",
       "      <td>NaN</td>\n",
       "      <td>NaN</td>\n",
       "      <td>NaN</td>\n",
       "    </tr>\n",
       "    <tr>\n",
       "      <th>1</th>\n",
       "      <td>1ZIHCT000200-28</td>\n",
       "      <td>INFORMATICS, MACHINE LEARNING &amp; BIOMEDICAL DAT...</td>\n",
       "      <td>CIT</td>\n",
       "      <td>JOHNSON, CALVIN A</td>\n",
       "      <td>NATIONAL INSTITUTES OF HEALTH</td>\n",
       "      <td>UNITED STATES</td>\n",
       "      <td>2017</td>\n",
       "      <td>2619784.0</td>\n",
       "      <td>NaN</td>\n",
       "      <td>NaN</td>\n",
       "      <td>NaN</td>\n",
       "      <td>NaN</td>\n",
       "    </tr>\n",
       "    <tr>\n",
       "      <th>2</th>\n",
       "      <td>1ZIACT000272-10</td>\n",
       "      <td>BIOMEDICAL IMAGE ANALYSIS AND INFORMATICS</td>\n",
       "      <td>CIT</td>\n",
       "      <td>MCAULIFFE, MATTHEW</td>\n",
       "      <td>NATIONAL INSTITUTES OF HEALTH</td>\n",
       "      <td>UNITED STATES</td>\n",
       "      <td>2017</td>\n",
       "      <td>1007609.0</td>\n",
       "      <td>NaN</td>\n",
       "      <td>NaN</td>\n",
       "      <td>NaN</td>\n",
       "      <td>NaN</td>\n",
       "    </tr>\n",
       "    <tr>\n",
       "      <th>3</th>\n",
       "      <td>1ZIACT000272-09</td>\n",
       "      <td>BIOMEDICAL IMAGE ANALYSIS AND INFORMATICS</td>\n",
       "      <td>CIT</td>\n",
       "      <td>MCAULIFFE, MATTHEW</td>\n",
       "      <td>NATIONAL INSTITUTES OF HEALTH</td>\n",
       "      <td>UNITED STATES</td>\n",
       "      <td>2016</td>\n",
       "      <td>847611.0</td>\n",
       "      <td>NaN</td>\n",
       "      <td>NaN</td>\n",
       "      <td>NaN</td>\n",
       "      <td>NaN</td>\n",
       "    </tr>\n",
       "    <tr>\n",
       "      <th>4</th>\n",
       "      <td>5U01LM012675-02</td>\n",
       "      <td>CROWD-ASSISTED DEEP LEARNING (CRADLE) DIGITAL ...</td>\n",
       "      <td>NLM</td>\n",
       "      <td>HADLEY, DEXTER D</td>\n",
       "      <td>UNIVERSITY OF CALIFORNIA SAN FRANCISCO</td>\n",
       "      <td>UNITED STATES</td>\n",
       "      <td>2018</td>\n",
       "      <td>545116.0</td>\n",
       "      <td>01-Aug-2017</td>\n",
       "      <td>31-Jul-2021</td>\n",
       "      <td>01-Aug-2018</td>\n",
       "      <td>31-Jul-2019</td>\n",
       "    </tr>\n",
       "  </tbody>\n",
       "</table>\n",
       "</div>"
      ],
      "text/plain": [
       "    Project Number                                              Title Agency  \\\n",
       "0  1ZIACT000272-11          BIOMEDICAL IMAGE ANALYSIS AND INFORMATICS    CIT   \n",
       "1  1ZIHCT000200-28  INFORMATICS, MACHINE LEARNING & BIOMEDICAL DAT...    CIT   \n",
       "2  1ZIACT000272-10          BIOMEDICAL IMAGE ANALYSIS AND INFORMATICS    CIT   \n",
       "3  1ZIACT000272-09          BIOMEDICAL IMAGE ANALYSIS AND INFORMATICS    CIT   \n",
       "4  5U01LM012675-02  CROWD-ASSISTED DEEP LEARNING (CRADLE) DIGITAL ...    NLM   \n",
       "\n",
       "                   PI                                    Univ        Country  \\\n",
       "0  MCAULIFFE, MATTHEW           NATIONAL INSTITUTES OF HEALTH  UNITED STATES   \n",
       "1   JOHNSON, CALVIN A           NATIONAL INSTITUTES OF HEALTH  UNITED STATES   \n",
       "2  MCAULIFFE, MATTHEW           NATIONAL INSTITUTES OF HEALTH  UNITED STATES   \n",
       "3  MCAULIFFE, MATTHEW           NATIONAL INSTITUTES OF HEALTH  UNITED STATES   \n",
       "4    HADLEY, DEXTER D  UNIVERSITY OF CALIFORNIA SAN FRANCISCO  UNITED STATES   \n",
       "\n",
       "   Fiscal Year  Total Cost   Start Year     End Year Budget_Start_Year  \\\n",
       "0         2018   1041664.0          NaN          NaN               NaN   \n",
       "1         2017   2619784.0          NaN          NaN               NaN   \n",
       "2         2017   1007609.0          NaN          NaN               NaN   \n",
       "3         2016    847611.0          NaN          NaN               NaN   \n",
       "4         2018    545116.0  01-Aug-2017  31-Jul-2021       01-Aug-2018   \n",
       "\n",
       "  Budget_End_Year  \n",
       "0             NaN  \n",
       "1             NaN  \n",
       "2             NaN  \n",
       "3             NaN  \n",
       "4     31-Jul-2019  "
      ]
     },
     "execution_count": 190,
     "metadata": {},
     "output_type": "execute_result"
    }
   ],
   "source": [
    "df.head()"
   ]
  },
  {
   "cell_type": "markdown",
   "metadata": {},
   "source": [
    "## preprocess the data"
   ]
  },
  {
   "cell_type": "markdown",
   "metadata": {},
   "source": [
    "### 1 change the time formate"
   ]
  },
  {
   "cell_type": "code",
   "execution_count": 191,
   "metadata": {},
   "outputs": [
    {
     "data": {
      "text/plain": [
       "'2017-09-20'"
      ]
     },
     "execution_count": 191,
     "metadata": {},
     "output_type": "execute_result"
    }
   ],
   "source": [
    "from datetime import datetime\n",
    "\n",
    "s1 = \"20-Sep-2017\"\n",
    "d1 = datetime.strptime(s1, '%d-%b-%Y')\n",
    "d2 = datetime.strptime('31-Aug-2020', '%d-%b-%Y')\n",
    "delta = d2-d1\n",
    "delta.days/365\n",
    "\n",
    "d1.strftime('%Y-%m-%d')"
   ]
  },
  {
   "cell_type": "code",
   "execution_count": 192,
   "metadata": {},
   "outputs": [],
   "source": [
    "df['Start Year'] = pd.to_datetime(df['Start Year'])\n",
    "df['End Year'] = pd.to_datetime(df['End Year'])"
   ]
  },
  {
   "cell_type": "code",
   "execution_count": 193,
   "metadata": {},
   "outputs": [
    {
     "name": "stdout",
     "output_type": "stream",
     "text": [
      "<class 'pandas.core.frame.DataFrame'>\n",
      "RangeIndex: 1362 entries, 0 to 1361\n",
      "Data columns (total 12 columns):\n",
      "Project Number       1362 non-null object\n",
      "Title                1362 non-null object\n",
      "Agency               1362 non-null object\n",
      "PI                   1362 non-null object\n",
      "Univ                 1362 non-null object\n",
      "Country              1362 non-null object\n",
      "Fiscal Year          1362 non-null int64\n",
      "Total Cost           1361 non-null float64\n",
      "Start Year           1177 non-null datetime64[ns]\n",
      "End Year             1204 non-null datetime64[ns]\n",
      "Budget_Start_Year    1292 non-null object\n",
      "Budget_End_Year      1292 non-null object\n",
      "dtypes: datetime64[ns](2), float64(1), int64(1), object(8)\n",
      "memory usage: 127.8+ KB\n"
     ]
    }
   ],
   "source": [
    "df.info()"
   ]
  },
  {
   "cell_type": "code",
   "execution_count": 194,
   "metadata": {},
   "outputs": [
    {
     "data": {
      "text/plain": [
       "0           NaN\n",
       "1           NaN\n",
       "2           NaN\n",
       "3           NaN\n",
       "4       35040.0\n",
       "         ...   \n",
       "1357        NaN\n",
       "1358        NaN\n",
       "1359        NaN\n",
       "1360    46032.0\n",
       "1361    35040.0\n",
       "Length: 1362, dtype: float64"
      ]
     },
     "execution_count": 194,
     "metadata": {},
     "output_type": "execute_result"
    }
   ],
   "source": [
    "(df['End Year'] - df['Start Year']).astype('timedelta64[h]')"
   ]
  },
  {
   "cell_type": "code",
   "execution_count": 195,
   "metadata": {},
   "outputs": [
    {
     "data": {
      "text/html": [
       "<div>\n",
       "<style scoped>\n",
       "    .dataframe tbody tr th:only-of-type {\n",
       "        vertical-align: middle;\n",
       "    }\n",
       "\n",
       "    .dataframe tbody tr th {\n",
       "        vertical-align: top;\n",
       "    }\n",
       "\n",
       "    .dataframe thead th {\n",
       "        text-align: right;\n",
       "    }\n",
       "</style>\n",
       "<table border=\"1\" class=\"dataframe\">\n",
       "  <thead>\n",
       "    <tr style=\"text-align: right;\">\n",
       "      <th></th>\n",
       "      <th>Project Number</th>\n",
       "      <th>Title</th>\n",
       "      <th>Agency</th>\n",
       "      <th>PI</th>\n",
       "      <th>Univ</th>\n",
       "      <th>Country</th>\n",
       "      <th>Fiscal Year</th>\n",
       "      <th>Total Cost</th>\n",
       "      <th>Start Year</th>\n",
       "      <th>End Year</th>\n",
       "      <th>Budget_Start_Year</th>\n",
       "      <th>Budget_End_Year</th>\n",
       "      <th>Delta_years</th>\n",
       "    </tr>\n",
       "  </thead>\n",
       "  <tbody>\n",
       "    <tr>\n",
       "      <th>0</th>\n",
       "      <td>1ZIACT000272-11</td>\n",
       "      <td>BIOMEDICAL IMAGE ANALYSIS AND INFORMATICS</td>\n",
       "      <td>CIT</td>\n",
       "      <td>MCAULIFFE, MATTHEW</td>\n",
       "      <td>NATIONAL INSTITUTES OF HEALTH</td>\n",
       "      <td>UNITED STATES</td>\n",
       "      <td>2018</td>\n",
       "      <td>1041664.0</td>\n",
       "      <td>NaT</td>\n",
       "      <td>NaT</td>\n",
       "      <td>NaN</td>\n",
       "      <td>NaN</td>\n",
       "      <td>NaN</td>\n",
       "    </tr>\n",
       "    <tr>\n",
       "      <th>1</th>\n",
       "      <td>1ZIHCT000200-28</td>\n",
       "      <td>INFORMATICS, MACHINE LEARNING &amp; BIOMEDICAL DAT...</td>\n",
       "      <td>CIT</td>\n",
       "      <td>JOHNSON, CALVIN A</td>\n",
       "      <td>NATIONAL INSTITUTES OF HEALTH</td>\n",
       "      <td>UNITED STATES</td>\n",
       "      <td>2017</td>\n",
       "      <td>2619784.0</td>\n",
       "      <td>NaT</td>\n",
       "      <td>NaT</td>\n",
       "      <td>NaN</td>\n",
       "      <td>NaN</td>\n",
       "      <td>NaN</td>\n",
       "    </tr>\n",
       "    <tr>\n",
       "      <th>2</th>\n",
       "      <td>1ZIACT000272-10</td>\n",
       "      <td>BIOMEDICAL IMAGE ANALYSIS AND INFORMATICS</td>\n",
       "      <td>CIT</td>\n",
       "      <td>MCAULIFFE, MATTHEW</td>\n",
       "      <td>NATIONAL INSTITUTES OF HEALTH</td>\n",
       "      <td>UNITED STATES</td>\n",
       "      <td>2017</td>\n",
       "      <td>1007609.0</td>\n",
       "      <td>NaT</td>\n",
       "      <td>NaT</td>\n",
       "      <td>NaN</td>\n",
       "      <td>NaN</td>\n",
       "      <td>NaN</td>\n",
       "    </tr>\n",
       "    <tr>\n",
       "      <th>3</th>\n",
       "      <td>1ZIACT000272-09</td>\n",
       "      <td>BIOMEDICAL IMAGE ANALYSIS AND INFORMATICS</td>\n",
       "      <td>CIT</td>\n",
       "      <td>MCAULIFFE, MATTHEW</td>\n",
       "      <td>NATIONAL INSTITUTES OF HEALTH</td>\n",
       "      <td>UNITED STATES</td>\n",
       "      <td>2016</td>\n",
       "      <td>847611.0</td>\n",
       "      <td>NaT</td>\n",
       "      <td>NaT</td>\n",
       "      <td>NaN</td>\n",
       "      <td>NaN</td>\n",
       "      <td>NaN</td>\n",
       "    </tr>\n",
       "    <tr>\n",
       "      <th>4</th>\n",
       "      <td>5U01LM012675-02</td>\n",
       "      <td>CROWD-ASSISTED DEEP LEARNING (CRADLE) DIGITAL ...</td>\n",
       "      <td>NLM</td>\n",
       "      <td>HADLEY, DEXTER D</td>\n",
       "      <td>UNIVERSITY OF CALIFORNIA SAN FRANCISCO</td>\n",
       "      <td>UNITED STATES</td>\n",
       "      <td>2018</td>\n",
       "      <td>545116.0</td>\n",
       "      <td>2017-08-01</td>\n",
       "      <td>2021-07-31</td>\n",
       "      <td>01-Aug-2018</td>\n",
       "      <td>31-Jul-2019</td>\n",
       "      <td>4.0</td>\n",
       "    </tr>\n",
       "  </tbody>\n",
       "</table>\n",
       "</div>"
      ],
      "text/plain": [
       "    Project Number                                              Title Agency  \\\n",
       "0  1ZIACT000272-11          BIOMEDICAL IMAGE ANALYSIS AND INFORMATICS    CIT   \n",
       "1  1ZIHCT000200-28  INFORMATICS, MACHINE LEARNING & BIOMEDICAL DAT...    CIT   \n",
       "2  1ZIACT000272-10          BIOMEDICAL IMAGE ANALYSIS AND INFORMATICS    CIT   \n",
       "3  1ZIACT000272-09          BIOMEDICAL IMAGE ANALYSIS AND INFORMATICS    CIT   \n",
       "4  5U01LM012675-02  CROWD-ASSISTED DEEP LEARNING (CRADLE) DIGITAL ...    NLM   \n",
       "\n",
       "                   PI                                    Univ        Country  \\\n",
       "0  MCAULIFFE, MATTHEW           NATIONAL INSTITUTES OF HEALTH  UNITED STATES   \n",
       "1   JOHNSON, CALVIN A           NATIONAL INSTITUTES OF HEALTH  UNITED STATES   \n",
       "2  MCAULIFFE, MATTHEW           NATIONAL INSTITUTES OF HEALTH  UNITED STATES   \n",
       "3  MCAULIFFE, MATTHEW           NATIONAL INSTITUTES OF HEALTH  UNITED STATES   \n",
       "4    HADLEY, DEXTER D  UNIVERSITY OF CALIFORNIA SAN FRANCISCO  UNITED STATES   \n",
       "\n",
       "   Fiscal Year  Total Cost Start Year   End Year Budget_Start_Year  \\\n",
       "0         2018   1041664.0        NaT        NaT               NaN   \n",
       "1         2017   2619784.0        NaT        NaT               NaN   \n",
       "2         2017   1007609.0        NaT        NaT               NaN   \n",
       "3         2016    847611.0        NaT        NaT               NaN   \n",
       "4         2018    545116.0 2017-08-01 2021-07-31       01-Aug-2018   \n",
       "\n",
       "  Budget_End_Year  Delta_years  \n",
       "0             NaN          NaN  \n",
       "1             NaN          NaN  \n",
       "2             NaN          NaN  \n",
       "3             NaN          NaN  \n",
       "4     31-Jul-2019          4.0  "
      ]
     },
     "execution_count": 195,
     "metadata": {},
     "output_type": "execute_result"
    }
   ],
   "source": [
    "df['Delta_years'] = round((df['End Year'] - df['Start Year']).astype('timedelta64[D]')/365)\n",
    "df.head()"
   ]
  },
  {
   "cell_type": "code",
   "execution_count": 196,
   "metadata": {},
   "outputs": [
    {
     "data": {
      "text/plain": [
       "array([2018, 2017, 2016, 2015])"
      ]
     },
     "execution_count": 196,
     "metadata": {},
     "output_type": "execute_result"
    }
   ],
   "source": [
    "df['Fiscal Year'].unique()"
   ]
  },
  {
   "cell_type": "code",
   "execution_count": 197,
   "metadata": {},
   "outputs": [],
   "source": [
    "def correct_years(x):\n",
    "    if x['Delta_years']>5:\n",
    "        f = pd.to_datetime(x['Fiscal Year'],format='%Y')\n",
    "        t = x['End Year']\n",
    "        delta = round((t - f).days/365)\n",
    "        x['Delta_years'] = delta\n",
    "    return x\n",
    "    \n",
    "df = df.apply(correct_years, axis=1)"
   ]
  },
  {
   "cell_type": "code",
   "execution_count": 198,
   "metadata": {},
   "outputs": [
    {
     "data": {
      "text/html": [
       "<div>\n",
       "<style scoped>\n",
       "    .dataframe tbody tr th:only-of-type {\n",
       "        vertical-align: middle;\n",
       "    }\n",
       "\n",
       "    .dataframe tbody tr th {\n",
       "        vertical-align: top;\n",
       "    }\n",
       "\n",
       "    .dataframe thead th {\n",
       "        text-align: right;\n",
       "    }\n",
       "</style>\n",
       "<table border=\"1\" class=\"dataframe\">\n",
       "  <thead>\n",
       "    <tr style=\"text-align: right;\">\n",
       "      <th></th>\n",
       "      <th>Project Number</th>\n",
       "      <th>Title</th>\n",
       "      <th>Agency</th>\n",
       "      <th>PI</th>\n",
       "      <th>Univ</th>\n",
       "      <th>Country</th>\n",
       "      <th>Fiscal Year</th>\n",
       "      <th>Total Cost</th>\n",
       "      <th>Start Year</th>\n",
       "      <th>End Year</th>\n",
       "      <th>Budget_Start_Year</th>\n",
       "      <th>Budget_End_Year</th>\n",
       "      <th>Delta_years</th>\n",
       "    </tr>\n",
       "  </thead>\n",
       "  <tbody>\n",
       "    <tr>\n",
       "      <th>270</th>\n",
       "      <td>2R01DC010915-06A1</td>\n",
       "      <td>BASAL FOREBRAIN MODULATION OF OLFACTORY BULB F...</td>\n",
       "      <td>NIDCD</td>\n",
       "      <td>SHIPLEY, MICHAEL THOMAS</td>\n",
       "      <td>UNIVERSITY OF MARYLAND BALTIMORE</td>\n",
       "      <td>UNITED STATES</td>\n",
       "      <td>2018</td>\n",
       "      <td>644112.0</td>\n",
       "      <td>2011-02-01</td>\n",
       "      <td>2023-08-31</td>\n",
       "      <td>14-Sep-2018</td>\n",
       "      <td>31-Aug-2019</td>\n",
       "      <td>6.0</td>\n",
       "    </tr>\n",
       "    <tr>\n",
       "      <th>402</th>\n",
       "      <td>2R01NS084017-06A1</td>\n",
       "      <td>MECHANISMS OF MEMORY ENHANCEMENT BY DEEP BRAIN...</td>\n",
       "      <td>NINDS</td>\n",
       "      <td>FRIED, ITZHAK</td>\n",
       "      <td>UNIVERSITY OF CALIFORNIA LOS ANGELES</td>\n",
       "      <td>UNITED STATES</td>\n",
       "      <td>2018</td>\n",
       "      <td>601971.0</td>\n",
       "      <td>2013-06-01</td>\n",
       "      <td>2023-08-31</td>\n",
       "      <td>30-Sep-2018</td>\n",
       "      <td>31-Aug-2019</td>\n",
       "      <td>6.0</td>\n",
       "    </tr>\n",
       "    <tr>\n",
       "      <th>879</th>\n",
       "      <td>1UH3NS100548-01</td>\n",
       "      <td>COMBINED  CORTICAL  AND  SUBCORTICAL  RECORDIN...</td>\n",
       "      <td>NINDS</td>\n",
       "      <td>DOUGHERTY, DARIN D</td>\n",
       "      <td>MASSACHUSETTS GENERAL HOSPITAL</td>\n",
       "      <td>UNITED STATES</td>\n",
       "      <td>2016</td>\n",
       "      <td>623218.0</td>\n",
       "      <td>2016-09-30</td>\n",
       "      <td>2022-12-29</td>\n",
       "      <td>30-Sep-2016</td>\n",
       "      <td>29-Dec-2018</td>\n",
       "      <td>7.0</td>\n",
       "    </tr>\n",
       "    <tr>\n",
       "      <th>1201</th>\n",
       "      <td>2R24AI072073-11</td>\n",
       "      <td>IMMGEN: GENE EXPRESSION AND REGULATION IN IMMU...</td>\n",
       "      <td>NIAID</td>\n",
       "      <td>BENOIST, CHRISTOPHE O.</td>\n",
       "      <td>HARVARD UNIVERSITY</td>\n",
       "      <td>UNITED STATES</td>\n",
       "      <td>2017</td>\n",
       "      <td>1727457.0</td>\n",
       "      <td>2007-09-18</td>\n",
       "      <td>2022-08-31</td>\n",
       "      <td>01-Sep-2017</td>\n",
       "      <td>31-Aug-2018</td>\n",
       "      <td>6.0</td>\n",
       "    </tr>\n",
       "    <tr>\n",
       "      <th>1203</th>\n",
       "      <td>2P01AI089618-06</td>\n",
       "      <td>STRUCTURE-FUNCTION ANALYSIS OF INFECTION- AND ...</td>\n",
       "      <td>NIAID</td>\n",
       "      <td>HARRISON, STEPHEN COPLAN</td>\n",
       "      <td>CHILDREN'S HOSPITAL BOSTON</td>\n",
       "      <td>UNITED STATES</td>\n",
       "      <td>2017</td>\n",
       "      <td>2637545.0</td>\n",
       "      <td>2011-08-01</td>\n",
       "      <td>2022-07-31</td>\n",
       "      <td>01-Aug-2017</td>\n",
       "      <td>31-Jul-2018</td>\n",
       "      <td>6.0</td>\n",
       "    </tr>\n",
       "    <tr>\n",
       "      <th>1204</th>\n",
       "      <td>2T32AI007422-26</td>\n",
       "      <td>MOLECULAR ANALYSIS OF MICROBIAL PATHOGENS</td>\n",
       "      <td>NIAID</td>\n",
       "      <td>ISBERG, RALPH R.</td>\n",
       "      <td>TUFTS UNIVERSITY BOSTON</td>\n",
       "      <td>UNITED STATES</td>\n",
       "      <td>2017</td>\n",
       "      <td>211429.0</td>\n",
       "      <td>1992-09-30</td>\n",
       "      <td>2022-08-31</td>\n",
       "      <td>01-Sep-2017</td>\n",
       "      <td>31-Aug-2018</td>\n",
       "      <td>6.0</td>\n",
       "    </tr>\n",
       "  </tbody>\n",
       "</table>\n",
       "</div>"
      ],
      "text/plain": [
       "         Project Number                                              Title  \\\n",
       "270   2R01DC010915-06A1  BASAL FOREBRAIN MODULATION OF OLFACTORY BULB F...   \n",
       "402   2R01NS084017-06A1  MECHANISMS OF MEMORY ENHANCEMENT BY DEEP BRAIN...   \n",
       "879     1UH3NS100548-01  COMBINED  CORTICAL  AND  SUBCORTICAL  RECORDIN...   \n",
       "1201    2R24AI072073-11  IMMGEN: GENE EXPRESSION AND REGULATION IN IMMU...   \n",
       "1203    2P01AI089618-06  STRUCTURE-FUNCTION ANALYSIS OF INFECTION- AND ...   \n",
       "1204    2T32AI007422-26          MOLECULAR ANALYSIS OF MICROBIAL PATHOGENS   \n",
       "\n",
       "     Agency                        PI                                  Univ  \\\n",
       "270   NIDCD   SHIPLEY, MICHAEL THOMAS      UNIVERSITY OF MARYLAND BALTIMORE   \n",
       "402   NINDS             FRIED, ITZHAK  UNIVERSITY OF CALIFORNIA LOS ANGELES   \n",
       "879   NINDS        DOUGHERTY, DARIN D        MASSACHUSETTS GENERAL HOSPITAL   \n",
       "1201  NIAID    BENOIST, CHRISTOPHE O.                    HARVARD UNIVERSITY   \n",
       "1203  NIAID  HARRISON, STEPHEN COPLAN            CHILDREN'S HOSPITAL BOSTON   \n",
       "1204  NIAID          ISBERG, RALPH R.               TUFTS UNIVERSITY BOSTON   \n",
       "\n",
       "            Country  Fiscal Year  Total Cost Start Year   End Year  \\\n",
       "270   UNITED STATES         2018    644112.0 2011-02-01 2023-08-31   \n",
       "402   UNITED STATES         2018    601971.0 2013-06-01 2023-08-31   \n",
       "879   UNITED STATES         2016    623218.0 2016-09-30 2022-12-29   \n",
       "1201  UNITED STATES         2017   1727457.0 2007-09-18 2022-08-31   \n",
       "1203  UNITED STATES         2017   2637545.0 2011-08-01 2022-07-31   \n",
       "1204  UNITED STATES         2017    211429.0 1992-09-30 2022-08-31   \n",
       "\n",
       "     Budget_Start_Year Budget_End_Year  Delta_years  \n",
       "270        14-Sep-2018     31-Aug-2019          6.0  \n",
       "402        30-Sep-2018     31-Aug-2019          6.0  \n",
       "879        30-Sep-2016     29-Dec-2018          7.0  \n",
       "1201       01-Sep-2017     31-Aug-2018          6.0  \n",
       "1203       01-Aug-2017     31-Jul-2018          6.0  \n",
       "1204       01-Sep-2017     31-Aug-2018          6.0  "
      ]
     },
     "execution_count": 198,
     "metadata": {},
     "output_type": "execute_result"
    }
   ],
   "source": [
    "df[df['Delta_years']>5].head(10)"
   ]
  },
  {
   "cell_type": "code",
   "execution_count": 199,
   "metadata": {},
   "outputs": [
    {
     "name": "stdout",
     "output_type": "stream",
     "text": [
      "K01\n"
     ]
    }
   ],
   "source": [
    "import re\n",
    "\n",
    "text = '1K01LM012734-01'\n",
    "\n",
    "m = re.search('[A-Za-z]\\d{2}', text)\n",
    "if m:\n",
    "    found = m.group(0)\n",
    "    print(found)"
   ]
  },
  {
   "cell_type": "code",
   "execution_count": 200,
   "metadata": {},
   "outputs": [
    {
     "data": {
      "text/html": [
       "<div>\n",
       "<style scoped>\n",
       "    .dataframe tbody tr th:only-of-type {\n",
       "        vertical-align: middle;\n",
       "    }\n",
       "\n",
       "    .dataframe tbody tr th {\n",
       "        vertical-align: top;\n",
       "    }\n",
       "\n",
       "    .dataframe thead th {\n",
       "        text-align: right;\n",
       "    }\n",
       "</style>\n",
       "<table border=\"1\" class=\"dataframe\">\n",
       "  <thead>\n",
       "    <tr style=\"text-align: right;\">\n",
       "      <th></th>\n",
       "      <th>Project Number</th>\n",
       "      <th>Title</th>\n",
       "      <th>Agency</th>\n",
       "      <th>PI</th>\n",
       "      <th>Univ</th>\n",
       "      <th>Country</th>\n",
       "      <th>Fiscal Year</th>\n",
       "      <th>Total Cost</th>\n",
       "      <th>Start Year</th>\n",
       "      <th>End Year</th>\n",
       "      <th>Budget_Start_Year</th>\n",
       "      <th>Budget_End_Year</th>\n",
       "      <th>Delta_years</th>\n",
       "      <th>Project Type</th>\n",
       "    </tr>\n",
       "  </thead>\n",
       "  <tbody>\n",
       "    <tr>\n",
       "      <th>0</th>\n",
       "      <td>1ZIACT000272-11</td>\n",
       "      <td>BIOMEDICAL IMAGE ANALYSIS AND INFORMATICS</td>\n",
       "      <td>CIT</td>\n",
       "      <td>MCAULIFFE, MATTHEW</td>\n",
       "      <td>NATIONAL INSTITUTES OF HEALTH</td>\n",
       "      <td>UNITED STATES</td>\n",
       "      <td>2018</td>\n",
       "      <td>1041664.0</td>\n",
       "      <td>NaT</td>\n",
       "      <td>NaT</td>\n",
       "      <td>NaN</td>\n",
       "      <td>NaN</td>\n",
       "      <td>NaN</td>\n",
       "      <td>T00</td>\n",
       "    </tr>\n",
       "    <tr>\n",
       "      <th>1</th>\n",
       "      <td>1ZIHCT000200-28</td>\n",
       "      <td>INFORMATICS, MACHINE LEARNING &amp; BIOMEDICAL DAT...</td>\n",
       "      <td>CIT</td>\n",
       "      <td>JOHNSON, CALVIN A</td>\n",
       "      <td>NATIONAL INSTITUTES OF HEALTH</td>\n",
       "      <td>UNITED STATES</td>\n",
       "      <td>2017</td>\n",
       "      <td>2619784.0</td>\n",
       "      <td>NaT</td>\n",
       "      <td>NaT</td>\n",
       "      <td>NaN</td>\n",
       "      <td>NaN</td>\n",
       "      <td>NaN</td>\n",
       "      <td>T00</td>\n",
       "    </tr>\n",
       "    <tr>\n",
       "      <th>2</th>\n",
       "      <td>1ZIACT000272-10</td>\n",
       "      <td>BIOMEDICAL IMAGE ANALYSIS AND INFORMATICS</td>\n",
       "      <td>CIT</td>\n",
       "      <td>MCAULIFFE, MATTHEW</td>\n",
       "      <td>NATIONAL INSTITUTES OF HEALTH</td>\n",
       "      <td>UNITED STATES</td>\n",
       "      <td>2017</td>\n",
       "      <td>1007609.0</td>\n",
       "      <td>NaT</td>\n",
       "      <td>NaT</td>\n",
       "      <td>NaN</td>\n",
       "      <td>NaN</td>\n",
       "      <td>NaN</td>\n",
       "      <td>T00</td>\n",
       "    </tr>\n",
       "    <tr>\n",
       "      <th>3</th>\n",
       "      <td>1ZIACT000272-09</td>\n",
       "      <td>BIOMEDICAL IMAGE ANALYSIS AND INFORMATICS</td>\n",
       "      <td>CIT</td>\n",
       "      <td>MCAULIFFE, MATTHEW</td>\n",
       "      <td>NATIONAL INSTITUTES OF HEALTH</td>\n",
       "      <td>UNITED STATES</td>\n",
       "      <td>2016</td>\n",
       "      <td>847611.0</td>\n",
       "      <td>NaT</td>\n",
       "      <td>NaT</td>\n",
       "      <td>NaN</td>\n",
       "      <td>NaN</td>\n",
       "      <td>NaN</td>\n",
       "      <td>T00</td>\n",
       "    </tr>\n",
       "    <tr>\n",
       "      <th>4</th>\n",
       "      <td>5U01LM012675-02</td>\n",
       "      <td>CROWD-ASSISTED DEEP LEARNING (CRADLE) DIGITAL ...</td>\n",
       "      <td>NLM</td>\n",
       "      <td>HADLEY, DEXTER D</td>\n",
       "      <td>UNIVERSITY OF CALIFORNIA SAN FRANCISCO</td>\n",
       "      <td>UNITED STATES</td>\n",
       "      <td>2018</td>\n",
       "      <td>545116.0</td>\n",
       "      <td>2017-08-01</td>\n",
       "      <td>2021-07-31</td>\n",
       "      <td>01-Aug-2018</td>\n",
       "      <td>31-Jul-2019</td>\n",
       "      <td>4.0</td>\n",
       "      <td>U01</td>\n",
       "    </tr>\n",
       "  </tbody>\n",
       "</table>\n",
       "</div>"
      ],
      "text/plain": [
       "    Project Number                                              Title Agency  \\\n",
       "0  1ZIACT000272-11          BIOMEDICAL IMAGE ANALYSIS AND INFORMATICS    CIT   \n",
       "1  1ZIHCT000200-28  INFORMATICS, MACHINE LEARNING & BIOMEDICAL DAT...    CIT   \n",
       "2  1ZIACT000272-10          BIOMEDICAL IMAGE ANALYSIS AND INFORMATICS    CIT   \n",
       "3  1ZIACT000272-09          BIOMEDICAL IMAGE ANALYSIS AND INFORMATICS    CIT   \n",
       "4  5U01LM012675-02  CROWD-ASSISTED DEEP LEARNING (CRADLE) DIGITAL ...    NLM   \n",
       "\n",
       "                   PI                                    Univ        Country  \\\n",
       "0  MCAULIFFE, MATTHEW           NATIONAL INSTITUTES OF HEALTH  UNITED STATES   \n",
       "1   JOHNSON, CALVIN A           NATIONAL INSTITUTES OF HEALTH  UNITED STATES   \n",
       "2  MCAULIFFE, MATTHEW           NATIONAL INSTITUTES OF HEALTH  UNITED STATES   \n",
       "3  MCAULIFFE, MATTHEW           NATIONAL INSTITUTES OF HEALTH  UNITED STATES   \n",
       "4    HADLEY, DEXTER D  UNIVERSITY OF CALIFORNIA SAN FRANCISCO  UNITED STATES   \n",
       "\n",
       "   Fiscal Year  Total Cost Start Year   End Year Budget_Start_Year  \\\n",
       "0         2018   1041664.0        NaT        NaT               NaN   \n",
       "1         2017   2619784.0        NaT        NaT               NaN   \n",
       "2         2017   1007609.0        NaT        NaT               NaN   \n",
       "3         2016    847611.0        NaT        NaT               NaN   \n",
       "4         2018    545116.0 2017-08-01 2021-07-31       01-Aug-2018   \n",
       "\n",
       "  Budget_End_Year  Delta_years Project Type  \n",
       "0             NaN          NaN          T00  \n",
       "1             NaN          NaN          T00  \n",
       "2             NaN          NaN          T00  \n",
       "3             NaN          NaN          T00  \n",
       "4     31-Jul-2019          4.0          U01  "
      ]
     },
     "execution_count": 200,
     "metadata": {},
     "output_type": "execute_result"
    }
   ],
   "source": [
    "import re\n",
    "def extract_ptype(x):\n",
    "    text = x['Project Number']\n",
    "    m = re.search('[A-Za-z]\\d{2}', text)\n",
    "    if m:\n",
    "        found = m.group(0)\n",
    "#         print(found)\n",
    "        x['Project Type'] = found\n",
    "    return x\n",
    "    \n",
    "df = df.apply(extract_ptype, axis=1)\n",
    "df.head()"
   ]
  },
  {
   "cell_type": "code",
   "execution_count": 201,
   "metadata": {},
   "outputs": [
    {
     "name": "stdout",
     "output_type": "stream",
     "text": [
      "(4774, 12)\n",
      "duplicate (400, 25)\n",
      "(5736, 14)\n"
     ]
    },
    {
     "data": {
      "text/html": [
       "<div>\n",
       "<style scoped>\n",
       "    .dataframe tbody tr th:only-of-type {\n",
       "        vertical-align: middle;\n",
       "    }\n",
       "\n",
       "    .dataframe tbody tr th {\n",
       "        vertical-align: top;\n",
       "    }\n",
       "\n",
       "    .dataframe thead th {\n",
       "        text-align: right;\n",
       "    }\n",
       "</style>\n",
       "<table border=\"1\" class=\"dataframe\">\n",
       "  <thead>\n",
       "    <tr style=\"text-align: right;\">\n",
       "      <th></th>\n",
       "      <th>Project Number</th>\n",
       "      <th>Title</th>\n",
       "      <th>Agency</th>\n",
       "      <th>PI</th>\n",
       "      <th>Univ</th>\n",
       "      <th>Country</th>\n",
       "      <th>Fiscal Year</th>\n",
       "      <th>Total Cost</th>\n",
       "      <th>Start Year</th>\n",
       "      <th>End Year</th>\n",
       "      <th>Budget_Start_Year</th>\n",
       "      <th>Budget_End_Year</th>\n",
       "      <th>Delta_years</th>\n",
       "      <th>Project Type</th>\n",
       "    </tr>\n",
       "  </thead>\n",
       "  <tbody>\n",
       "    <tr>\n",
       "      <th>0</th>\n",
       "      <td>1ZIACT000272-11</td>\n",
       "      <td>BIOMEDICAL IMAGE ANALYSIS AND INFORMATICS</td>\n",
       "      <td>CIT</td>\n",
       "      <td>MCAULIFFE, MATTHEW</td>\n",
       "      <td>NATIONAL INSTITUTES OF HEALTH</td>\n",
       "      <td>UNITED STATES</td>\n",
       "      <td>2018</td>\n",
       "      <td>1041664.0</td>\n",
       "      <td>NaT</td>\n",
       "      <td>NaT</td>\n",
       "      <td>NaN</td>\n",
       "      <td>NaN</td>\n",
       "      <td>NaN</td>\n",
       "      <td>T00</td>\n",
       "    </tr>\n",
       "    <tr>\n",
       "      <th>1</th>\n",
       "      <td>1ZIHCT000200-28</td>\n",
       "      <td>INFORMATICS, MACHINE LEARNING &amp; BIOMEDICAL DAT...</td>\n",
       "      <td>CIT</td>\n",
       "      <td>JOHNSON, CALVIN A</td>\n",
       "      <td>NATIONAL INSTITUTES OF HEALTH</td>\n",
       "      <td>UNITED STATES</td>\n",
       "      <td>2017</td>\n",
       "      <td>2619784.0</td>\n",
       "      <td>NaT</td>\n",
       "      <td>NaT</td>\n",
       "      <td>NaN</td>\n",
       "      <td>NaN</td>\n",
       "      <td>NaN</td>\n",
       "      <td>T00</td>\n",
       "    </tr>\n",
       "    <tr>\n",
       "      <th>2</th>\n",
       "      <td>1ZIACT000272-10</td>\n",
       "      <td>BIOMEDICAL IMAGE ANALYSIS AND INFORMATICS</td>\n",
       "      <td>CIT</td>\n",
       "      <td>MCAULIFFE, MATTHEW</td>\n",
       "      <td>NATIONAL INSTITUTES OF HEALTH</td>\n",
       "      <td>UNITED STATES</td>\n",
       "      <td>2017</td>\n",
       "      <td>1007609.0</td>\n",
       "      <td>NaT</td>\n",
       "      <td>NaT</td>\n",
       "      <td>NaN</td>\n",
       "      <td>NaN</td>\n",
       "      <td>NaN</td>\n",
       "      <td>T00</td>\n",
       "    </tr>\n",
       "    <tr>\n",
       "      <th>3</th>\n",
       "      <td>1ZIACT000272-09</td>\n",
       "      <td>BIOMEDICAL IMAGE ANALYSIS AND INFORMATICS</td>\n",
       "      <td>CIT</td>\n",
       "      <td>MCAULIFFE, MATTHEW</td>\n",
       "      <td>NATIONAL INSTITUTES OF HEALTH</td>\n",
       "      <td>UNITED STATES</td>\n",
       "      <td>2016</td>\n",
       "      <td>847611.0</td>\n",
       "      <td>NaT</td>\n",
       "      <td>NaT</td>\n",
       "      <td>NaN</td>\n",
       "      <td>NaN</td>\n",
       "      <td>NaN</td>\n",
       "      <td>T00</td>\n",
       "    </tr>\n",
       "    <tr>\n",
       "      <th>4</th>\n",
       "      <td>5U01LM012675-02</td>\n",
       "      <td>CROWD-ASSISTED DEEP LEARNING (CRADLE) DIGITAL ...</td>\n",
       "      <td>NLM</td>\n",
       "      <td>HADLEY, DEXTER D</td>\n",
       "      <td>UNIVERSITY OF CALIFORNIA SAN FRANCISCO</td>\n",
       "      <td>UNITED STATES</td>\n",
       "      <td>2018</td>\n",
       "      <td>545116.0</td>\n",
       "      <td>2017-08-01 00:00:00</td>\n",
       "      <td>2021-07-31 00:00:00</td>\n",
       "      <td>01-Aug-2018</td>\n",
       "      <td>31-Jul-2019</td>\n",
       "      <td>4.0</td>\n",
       "      <td>U01</td>\n",
       "    </tr>\n",
       "  </tbody>\n",
       "</table>\n",
       "</div>"
      ],
      "text/plain": [
       "    Project Number                                              Title Agency  \\\n",
       "0  1ZIACT000272-11          BIOMEDICAL IMAGE ANALYSIS AND INFORMATICS    CIT   \n",
       "1  1ZIHCT000200-28  INFORMATICS, MACHINE LEARNING & BIOMEDICAL DAT...    CIT   \n",
       "2  1ZIACT000272-10          BIOMEDICAL IMAGE ANALYSIS AND INFORMATICS    CIT   \n",
       "3  1ZIACT000272-09          BIOMEDICAL IMAGE ANALYSIS AND INFORMATICS    CIT   \n",
       "4  5U01LM012675-02  CROWD-ASSISTED DEEP LEARNING (CRADLE) DIGITAL ...    NLM   \n",
       "\n",
       "                   PI                                    Univ        Country  \\\n",
       "0  MCAULIFFE, MATTHEW           NATIONAL INSTITUTES OF HEALTH  UNITED STATES   \n",
       "1   JOHNSON, CALVIN A           NATIONAL INSTITUTES OF HEALTH  UNITED STATES   \n",
       "2  MCAULIFFE, MATTHEW           NATIONAL INSTITUTES OF HEALTH  UNITED STATES   \n",
       "3  MCAULIFFE, MATTHEW           NATIONAL INSTITUTES OF HEALTH  UNITED STATES   \n",
       "4    HADLEY, DEXTER D  UNIVERSITY OF CALIFORNIA SAN FRANCISCO  UNITED STATES   \n",
       "\n",
       "   Fiscal Year  Total Cost           Start Year             End Year  \\\n",
       "0         2018   1041664.0                  NaT                  NaT   \n",
       "1         2017   2619784.0                  NaT                  NaT   \n",
       "2         2017   1007609.0                  NaT                  NaT   \n",
       "3         2016    847611.0                  NaT                  NaT   \n",
       "4         2018    545116.0  2017-08-01 00:00:00  2021-07-31 00:00:00   \n",
       "\n",
       "  Budget_Start_Year Budget_End_Year  Delta_years Project Type  \n",
       "0               NaN             NaN          NaN          T00  \n",
       "1               NaN             NaN          NaN          T00  \n",
       "2               NaN             NaN          NaN          T00  \n",
       "3               NaN             NaN          NaN          T00  \n",
       "4       01-Aug-2018     31-Jul-2019          4.0          U01  "
      ]
     },
     "execution_count": 201,
     "metadata": {},
     "output_type": "execute_result"
    }
   ],
   "source": [
    "df1 = df\n",
    "df2 = pd.read_csv('data/processed_NIH.csv') #keyword with machine learning\n",
    "print(df2.shape)\n",
    "print(\"duplicate\", df1.merge(df2, on='Project Number').shape)\n",
    "df = pd.concat([df1,df2], axis=0,sort=False).drop_duplicates(['Project Number']).reset_index(drop=True)\n",
    "print(df.shape)\n",
    "df.head()"
   ]
  },
  {
   "cell_type": "code",
   "execution_count": 202,
   "metadata": {},
   "outputs": [],
   "source": [
    "df.to_csv(path.join('data/', 'processed_NIH_ML_DL.csv'), index=None)"
   ]
  },
  {
   "cell_type": "markdown",
   "metadata": {},
   "source": [
    "## analysis the data"
   ]
  },
  {
   "cell_type": "code",
   "execution_count": 203,
   "metadata": {},
   "outputs": [
    {
     "data": {
      "text/plain": [
       "(5736, 14)"
      ]
     },
     "execution_count": 203,
     "metadata": {},
     "output_type": "execute_result"
    }
   ],
   "source": [
    "# read the data\n",
    "df = pd.read_csv(path.join('data', 'processed_NIH_ML_DL.csv'))\n",
    "df.shape"
   ]
  },
  {
   "cell_type": "code",
   "execution_count": 228,
   "metadata": {},
   "outputs": [
    {
     "data": {
      "text/plain": [
       "5736"
      ]
     },
     "execution_count": 228,
     "metadata": {},
     "output_type": "execute_result"
    }
   ],
   "source": [
    "len(df['Project Number'].unique())"
   ]
  },
  {
   "cell_type": "code",
   "execution_count": 229,
   "metadata": {},
   "outputs": [
    {
     "data": {
      "text/plain": [
       "(670, 14)"
      ]
     },
     "execution_count": 229,
     "metadata": {},
     "output_type": "execute_result"
    }
   ],
   "source": [
    "df[df.Agency=='NIMH'].shape"
   ]
  },
  {
   "cell_type": "code",
   "execution_count": 205,
   "metadata": {},
   "outputs": [],
   "source": [
    "output_path ='data/statistics_for_plot_ML_DL'"
   ]
  },
  {
   "cell_type": "code",
   "execution_count": 237,
   "metadata": {},
   "outputs": [
    {
     "data": {
      "text/html": [
       "<div>\n",
       "<style scoped>\n",
       "    .dataframe tbody tr th:only-of-type {\n",
       "        vertical-align: middle;\n",
       "    }\n",
       "\n",
       "    .dataframe tbody tr th {\n",
       "        vertical-align: top;\n",
       "    }\n",
       "\n",
       "    .dataframe thead th {\n",
       "        text-align: right;\n",
       "    }\n",
       "</style>\n",
       "<table border=\"1\" class=\"dataframe\">\n",
       "  <thead>\n",
       "    <tr style=\"text-align: right;\">\n",
       "      <th></th>\n",
       "      <th>Agency</th>\n",
       "      <th>Fiscal Year</th>\n",
       "      <th>count</th>\n",
       "    </tr>\n",
       "  </thead>\n",
       "  <tbody>\n",
       "    <tr>\n",
       "      <th>0</th>\n",
       "      <td>CIT</td>\n",
       "      <td>2014-01-01</td>\n",
       "      <td>4</td>\n",
       "    </tr>\n",
       "    <tr>\n",
       "      <th>11</th>\n",
       "      <td>NCATS</td>\n",
       "      <td>2014-01-01</td>\n",
       "      <td>1</td>\n",
       "    </tr>\n",
       "    <tr>\n",
       "      <th>20</th>\n",
       "      <td>NCI</td>\n",
       "      <td>2014-01-01</td>\n",
       "      <td>69</td>\n",
       "    </tr>\n",
       "    <tr>\n",
       "      <th>25</th>\n",
       "      <td>NEI</td>\n",
       "      <td>2014-01-01</td>\n",
       "      <td>21</td>\n",
       "    </tr>\n",
       "    <tr>\n",
       "      <th>30</th>\n",
       "      <td>NHGRI</td>\n",
       "      <td>2014-01-01</td>\n",
       "      <td>27</td>\n",
       "    </tr>\n",
       "    <tr>\n",
       "      <th>35</th>\n",
       "      <td>NHLBI</td>\n",
       "      <td>2014-01-01</td>\n",
       "      <td>28</td>\n",
       "    </tr>\n",
       "    <tr>\n",
       "      <th>40</th>\n",
       "      <td>NIA</td>\n",
       "      <td>2014-01-01</td>\n",
       "      <td>24</td>\n",
       "    </tr>\n",
       "    <tr>\n",
       "      <th>45</th>\n",
       "      <td>NIAAA</td>\n",
       "      <td>2014-01-01</td>\n",
       "      <td>9</td>\n",
       "    </tr>\n",
       "    <tr>\n",
       "      <th>50</th>\n",
       "      <td>NIAID</td>\n",
       "      <td>2014-01-01</td>\n",
       "      <td>30</td>\n",
       "    </tr>\n",
       "    <tr>\n",
       "      <th>55</th>\n",
       "      <td>NIAMS</td>\n",
       "      <td>2014-01-01</td>\n",
       "      <td>5</td>\n",
       "    </tr>\n",
       "  </tbody>\n",
       "</table>\n",
       "</div>"
      ],
      "text/plain": [
       "   Agency Fiscal Year  count\n",
       "0     CIT  2014-01-01      4\n",
       "11  NCATS  2014-01-01      1\n",
       "20    NCI  2014-01-01     69\n",
       "25    NEI  2014-01-01     21\n",
       "30  NHGRI  2014-01-01     27\n",
       "35  NHLBI  2014-01-01     28\n",
       "40    NIA  2014-01-01     24\n",
       "45  NIAAA  2014-01-01      9\n",
       "50  NIAID  2014-01-01     30\n",
       "55  NIAMS  2014-01-01      5"
      ]
     },
     "execution_count": 237,
     "metadata": {},
     "output_type": "execute_result"
    }
   ],
   "source": [
    "# The top 10 funded agency\n",
    "df_agency_by_year = df.groupby(['Agency','Fiscal Year'])['Project Number'].count()\\\n",
    "                             .reset_index(name='count') \\\n",
    "                             .sort_values(['Fiscal Year','Agency'], ascending=True)\n",
    "df_agency_by_year['Fiscal Year'] = pd.to_datetime(df_agency['Fiscal Year'],format='%Y')\n",
    "# df_agency.to_csv(path.join(output_path, 'agency_count_by_year.csv'), index=None)\n",
    "df_agency_by_year[:10]"
   ]
  },
  {
   "cell_type": "code",
   "execution_count": 241,
   "metadata": {},
   "outputs": [
    {
     "data": {
      "text/html": [
       "<div>\n",
       "<style scoped>\n",
       "    .dataframe tbody tr th:only-of-type {\n",
       "        vertical-align: middle;\n",
       "    }\n",
       "\n",
       "    .dataframe tbody tr th {\n",
       "        vertical-align: top;\n",
       "    }\n",
       "\n",
       "    .dataframe thead th {\n",
       "        text-align: right;\n",
       "    }\n",
       "</style>\n",
       "<table border=\"1\" class=\"dataframe\">\n",
       "  <thead>\n",
       "    <tr style=\"text-align: right;\">\n",
       "      <th></th>\n",
       "      <th>Agency</th>\n",
       "      <th>Fiscal Year</th>\n",
       "      <th>count</th>\n",
       "    </tr>\n",
       "  </thead>\n",
       "  <tbody>\n",
       "    <tr>\n",
       "      <th>117</th>\n",
       "      <td>NINR</td>\n",
       "      <td>2017-01-01</td>\n",
       "      <td>10</td>\n",
       "    </tr>\n",
       "    <tr>\n",
       "      <th>122</th>\n",
       "      <td>NLM</td>\n",
       "      <td>2017-01-01</td>\n",
       "      <td>45</td>\n",
       "    </tr>\n",
       "    <tr>\n",
       "      <th>127</th>\n",
       "      <td>OD</td>\n",
       "      <td>2017-01-01</td>\n",
       "      <td>21</td>\n",
       "    </tr>\n",
       "    <tr>\n",
       "      <th>4</th>\n",
       "      <td>CIT</td>\n",
       "      <td>2018-01-01</td>\n",
       "      <td>4</td>\n",
       "    </tr>\n",
       "    <tr>\n",
       "      <th>7</th>\n",
       "      <td>CLC</td>\n",
       "      <td>2018-01-01</td>\n",
       "      <td>2</td>\n",
       "    </tr>\n",
       "    <tr>\n",
       "      <th>10</th>\n",
       "      <td>FIC</td>\n",
       "      <td>2018-01-01</td>\n",
       "      <td>1</td>\n",
       "    </tr>\n",
       "    <tr>\n",
       "      <th>15</th>\n",
       "      <td>NCATS</td>\n",
       "      <td>2018-01-01</td>\n",
       "      <td>26</td>\n",
       "    </tr>\n",
       "    <tr>\n",
       "      <th>19</th>\n",
       "      <td>NCCIH</td>\n",
       "      <td>2018-01-01</td>\n",
       "      <td>10</td>\n",
       "    </tr>\n",
       "    <tr>\n",
       "      <th>24</th>\n",
       "      <td>NCI</td>\n",
       "      <td>2018-01-01</td>\n",
       "      <td>209</td>\n",
       "    </tr>\n",
       "    <tr>\n",
       "      <th>29</th>\n",
       "      <td>NEI</td>\n",
       "      <td>2018-01-01</td>\n",
       "      <td>26</td>\n",
       "    </tr>\n",
       "    <tr>\n",
       "      <th>34</th>\n",
       "      <td>NHGRI</td>\n",
       "      <td>2018-01-01</td>\n",
       "      <td>56</td>\n",
       "    </tr>\n",
       "    <tr>\n",
       "      <th>39</th>\n",
       "      <td>NHLBI</td>\n",
       "      <td>2018-01-01</td>\n",
       "      <td>117</td>\n",
       "    </tr>\n",
       "    <tr>\n",
       "      <th>44</th>\n",
       "      <td>NIA</td>\n",
       "      <td>2018-01-01</td>\n",
       "      <td>109</td>\n",
       "    </tr>\n",
       "    <tr>\n",
       "      <th>49</th>\n",
       "      <td>NIAAA</td>\n",
       "      <td>2018-01-01</td>\n",
       "      <td>30</td>\n",
       "    </tr>\n",
       "    <tr>\n",
       "      <th>54</th>\n",
       "      <td>NIAID</td>\n",
       "      <td>2018-01-01</td>\n",
       "      <td>107</td>\n",
       "    </tr>\n",
       "    <tr>\n",
       "      <th>59</th>\n",
       "      <td>NIAMS</td>\n",
       "      <td>2018-01-01</td>\n",
       "      <td>18</td>\n",
       "    </tr>\n",
       "    <tr>\n",
       "      <th>64</th>\n",
       "      <td>NIBIB</td>\n",
       "      <td>2018-01-01</td>\n",
       "      <td>95</td>\n",
       "    </tr>\n",
       "    <tr>\n",
       "      <th>69</th>\n",
       "      <td>NICHD</td>\n",
       "      <td>2018-01-01</td>\n",
       "      <td>74</td>\n",
       "    </tr>\n",
       "    <tr>\n",
       "      <th>74</th>\n",
       "      <td>NIDA</td>\n",
       "      <td>2018-01-01</td>\n",
       "      <td>84</td>\n",
       "    </tr>\n",
       "    <tr>\n",
       "      <th>79</th>\n",
       "      <td>NIDCD</td>\n",
       "      <td>2018-01-01</td>\n",
       "      <td>45</td>\n",
       "    </tr>\n",
       "    <tr>\n",
       "      <th>84</th>\n",
       "      <td>NIDCR</td>\n",
       "      <td>2018-01-01</td>\n",
       "      <td>18</td>\n",
       "    </tr>\n",
       "    <tr>\n",
       "      <th>89</th>\n",
       "      <td>NIDDK</td>\n",
       "      <td>2018-01-01</td>\n",
       "      <td>55</td>\n",
       "    </tr>\n",
       "    <tr>\n",
       "      <th>94</th>\n",
       "      <td>NIEHS</td>\n",
       "      <td>2018-01-01</td>\n",
       "      <td>51</td>\n",
       "    </tr>\n",
       "    <tr>\n",
       "      <th>99</th>\n",
       "      <td>NIGMS</td>\n",
       "      <td>2018-01-01</td>\n",
       "      <td>208</td>\n",
       "    </tr>\n",
       "    <tr>\n",
       "      <th>104</th>\n",
       "      <td>NIMH</td>\n",
       "      <td>2018-01-01</td>\n",
       "      <td>225</td>\n",
       "    </tr>\n",
       "    <tr>\n",
       "      <th>108</th>\n",
       "      <td>NIMHD</td>\n",
       "      <td>2018-01-01</td>\n",
       "      <td>11</td>\n",
       "    </tr>\n",
       "    <tr>\n",
       "      <th>113</th>\n",
       "      <td>NINDS</td>\n",
       "      <td>2018-01-01</td>\n",
       "      <td>176</td>\n",
       "    </tr>\n",
       "    <tr>\n",
       "      <th>118</th>\n",
       "      <td>NINR</td>\n",
       "      <td>2018-01-01</td>\n",
       "      <td>16</td>\n",
       "    </tr>\n",
       "    <tr>\n",
       "      <th>123</th>\n",
       "      <td>NLM</td>\n",
       "      <td>2018-01-01</td>\n",
       "      <td>57</td>\n",
       "    </tr>\n",
       "    <tr>\n",
       "      <th>128</th>\n",
       "      <td>OD</td>\n",
       "      <td>2018-01-01</td>\n",
       "      <td>13</td>\n",
       "    </tr>\n",
       "  </tbody>\n",
       "</table>\n",
       "</div>"
      ],
      "text/plain": [
       "    Agency Fiscal Year  count\n",
       "117   NINR  2017-01-01     10\n",
       "122    NLM  2017-01-01     45\n",
       "127     OD  2017-01-01     21\n",
       "4      CIT  2018-01-01      4\n",
       "7      CLC  2018-01-01      2\n",
       "10     FIC  2018-01-01      1\n",
       "15   NCATS  2018-01-01     26\n",
       "19   NCCIH  2018-01-01     10\n",
       "24     NCI  2018-01-01    209\n",
       "29     NEI  2018-01-01     26\n",
       "34   NHGRI  2018-01-01     56\n",
       "39   NHLBI  2018-01-01    117\n",
       "44     NIA  2018-01-01    109\n",
       "49   NIAAA  2018-01-01     30\n",
       "54   NIAID  2018-01-01    107\n",
       "59   NIAMS  2018-01-01     18\n",
       "64   NIBIB  2018-01-01     95\n",
       "69   NICHD  2018-01-01     74\n",
       "74    NIDA  2018-01-01     84\n",
       "79   NIDCD  2018-01-01     45\n",
       "84   NIDCR  2018-01-01     18\n",
       "89   NIDDK  2018-01-01     55\n",
       "94   NIEHS  2018-01-01     51\n",
       "99   NIGMS  2018-01-01    208\n",
       "104   NIMH  2018-01-01    225\n",
       "108  NIMHD  2018-01-01     11\n",
       "113  NINDS  2018-01-01    176\n",
       "118   NINR  2018-01-01     16\n",
       "123    NLM  2018-01-01     57\n",
       "128     OD  2018-01-01     13"
      ]
     },
     "execution_count": 241,
     "metadata": {},
     "output_type": "execute_result"
    }
   ],
   "source": [
    "df_agency_by_year.[-30:]"
   ]
  },
  {
   "cell_type": "code",
   "execution_count": 207,
   "metadata": {},
   "outputs": [],
   "source": [
    "df_agency.rename({'Agency': 'name', 'Fiscal Year': 'date', 'count': 'value'}, axis=1, inplace=True)\n",
    "df_agency['category'] = df_agency['name'] \n",
    "df_agency.to_csv(path.join(output_path, 'agency_count_by_year.csv'), index=None)"
   ]
  },
  {
   "cell_type": "code",
   "execution_count": 234,
   "metadata": {},
   "outputs": [
    {
     "data": {
      "text/plain": [
       "<matplotlib.axes._subplots.AxesSubplot at 0x1a26567828>"
      ]
     },
     "execution_count": 234,
     "metadata": {},
     "output_type": "execute_result"
    },
    {
     "data": {
      "image/png": "[encoded data removed]",
      "text/plain": [
       "<Figure size 1440x360 with 1 Axes>"
      ]
     },
     "metadata": {
      "needs_background": "light"
     },
     "output_type": "display_data"
    }
   ],
   "source": [
    "plt.figure(figsize=(20,5))\n",
    "df_agency = df.groupby(['Agency'])['Project Number'].count()\\\n",
    "                             .reset_index(name='count') \\\n",
    "                             .sort_values(['count'], ascending=False)\n",
    "sns.barplot(x='Agency', y='count', data=df_agency)"
   ]
  },
  {
   "cell_type": "code",
   "execution_count": 235,
   "metadata": {},
   "outputs": [
    {
     "data": {
      "text/html": [
       "<div>\n",
       "<style scoped>\n",
       "    .dataframe tbody tr th:only-of-type {\n",
       "        vertical-align: middle;\n",
       "    }\n",
       "\n",
       "    .dataframe tbody tr th {\n",
       "        vertical-align: top;\n",
       "    }\n",
       "\n",
       "    .dataframe thead th {\n",
       "        text-align: right;\n",
       "    }\n",
       "</style>\n",
       "<table border=\"1\" class=\"dataframe\">\n",
       "  <thead>\n",
       "    <tr style=\"text-align: right;\">\n",
       "      <th></th>\n",
       "      <th>Agency</th>\n",
       "      <th>count</th>\n",
       "      <th>percent</th>\n",
       "    </tr>\n",
       "  </thead>\n",
       "  <tbody>\n",
       "    <tr>\n",
       "      <th>20</th>\n",
       "      <td>NIGMS</td>\n",
       "      <td>675</td>\n",
       "      <td>11.767782</td>\n",
       "    </tr>\n",
       "    <tr>\n",
       "      <th>21</th>\n",
       "      <td>NIMH</td>\n",
       "      <td>670</td>\n",
       "      <td>11.680614</td>\n",
       "    </tr>\n",
       "    <tr>\n",
       "      <th>5</th>\n",
       "      <td>NCI</td>\n",
       "      <td>609</td>\n",
       "      <td>10.617155</td>\n",
       "    </tr>\n",
       "    <tr>\n",
       "      <th>23</th>\n",
       "      <td>NINDS</td>\n",
       "      <td>603</td>\n",
       "      <td>10.512552</td>\n",
       "    </tr>\n",
       "    <tr>\n",
       "      <th>11</th>\n",
       "      <td>NIAID</td>\n",
       "      <td>317</td>\n",
       "      <td>5.526499</td>\n",
       "    </tr>\n",
       "  </tbody>\n",
       "</table>\n",
       "</div>"
      ],
      "text/plain": [
       "   Agency  count    percent\n",
       "20  NIGMS    675  11.767782\n",
       "21   NIMH    670  11.680614\n",
       "5     NCI    609  10.617155\n",
       "23  NINDS    603  10.512552\n",
       "11  NIAID    317   5.526499"
      ]
     },
     "execution_count": 235,
     "metadata": {},
     "output_type": "execute_result"
    }
   ],
   "source": [
    "df_agency['percent']=df_agency['count']/df_agency['count'].sum()*100\n",
    "df_agency.head()"
   ]
  },
  {
   "cell_type": "code",
   "execution_count": 232,
   "metadata": {},
   "outputs": [
    {
     "data": {
      "text/html": [
       "<div>\n",
       "<style scoped>\n",
       "    .dataframe tbody tr th:only-of-type {\n",
       "        vertical-align: middle;\n",
       "    }\n",
       "\n",
       "    .dataframe tbody tr th {\n",
       "        vertical-align: top;\n",
       "    }\n",
       "\n",
       "    .dataframe thead th {\n",
       "        text-align: right;\n",
       "    }\n",
       "</style>\n",
       "<table border=\"1\" class=\"dataframe\">\n",
       "  <thead>\n",
       "    <tr style=\"text-align: right;\">\n",
       "      <th></th>\n",
       "      <th>Agency</th>\n",
       "      <th>Fiscal Year</th>\n",
       "      <th>Total Cost (millon)</th>\n",
       "    </tr>\n",
       "  </thead>\n",
       "  <tbody>\n",
       "    <tr>\n",
       "      <th>0</th>\n",
       "      <td>CIT</td>\n",
       "      <td>2014-01-01</td>\n",
       "      <td>3414620.0</td>\n",
       "    </tr>\n",
       "    <tr>\n",
       "      <th>11</th>\n",
       "      <td>NCATS</td>\n",
       "      <td>2014-01-01</td>\n",
       "      <td>2020212.0</td>\n",
       "    </tr>\n",
       "    <tr>\n",
       "      <th>20</th>\n",
       "      <td>NCI</td>\n",
       "      <td>2014-01-01</td>\n",
       "      <td>29324646.0</td>\n",
       "    </tr>\n",
       "    <tr>\n",
       "      <th>25</th>\n",
       "      <td>NEI</td>\n",
       "      <td>2014-01-01</td>\n",
       "      <td>10952945.0</td>\n",
       "    </tr>\n",
       "    <tr>\n",
       "      <th>30</th>\n",
       "      <td>NHGRI</td>\n",
       "      <td>2014-01-01</td>\n",
       "      <td>19824907.0</td>\n",
       "    </tr>\n",
       "    <tr>\n",
       "      <th>35</th>\n",
       "      <td>NHLBI</td>\n",
       "      <td>2014-01-01</td>\n",
       "      <td>18252038.0</td>\n",
       "    </tr>\n",
       "    <tr>\n",
       "      <th>40</th>\n",
       "      <td>NIA</td>\n",
       "      <td>2014-01-01</td>\n",
       "      <td>9660211.0</td>\n",
       "    </tr>\n",
       "    <tr>\n",
       "      <th>45</th>\n",
       "      <td>NIAAA</td>\n",
       "      <td>2014-01-01</td>\n",
       "      <td>3748263.0</td>\n",
       "    </tr>\n",
       "    <tr>\n",
       "      <th>50</th>\n",
       "      <td>NIAID</td>\n",
       "      <td>2014-01-01</td>\n",
       "      <td>14455742.0</td>\n",
       "    </tr>\n",
       "    <tr>\n",
       "      <th>55</th>\n",
       "      <td>NIAMS</td>\n",
       "      <td>2014-01-01</td>\n",
       "      <td>1318778.0</td>\n",
       "    </tr>\n",
       "  </tbody>\n",
       "</table>\n",
       "</div>"
      ],
      "text/plain": [
       "   Agency Fiscal Year  Total Cost (millon)\n",
       "0     CIT  2014-01-01            3414620.0\n",
       "11  NCATS  2014-01-01            2020212.0\n",
       "20    NCI  2014-01-01           29324646.0\n",
       "25    NEI  2014-01-01           10952945.0\n",
       "30  NHGRI  2014-01-01           19824907.0\n",
       "35  NHLBI  2014-01-01           18252038.0\n",
       "40    NIA  2014-01-01            9660211.0\n",
       "45  NIAAA  2014-01-01            3748263.0\n",
       "50  NIAID  2014-01-01           14455742.0\n",
       "55  NIAMS  2014-01-01            1318778.0"
      ]
     },
     "execution_count": 232,
     "metadata": {},
     "output_type": "execute_result"
    }
   ],
   "source": [
    "df_agency = df.groupby(['Agency','Fiscal Year'])['Total Cost'].sum()\\\n",
    "                             .reset_index(name='Total Cost') \\\n",
    "                             .sort_values(['Fiscal Year','Agency'], ascending=True)\n",
    "df_agency['Fiscal Year'] = pd.to_datetime(df_agency['Fiscal Year'],format='%Y')\n",
    "df_agency['Total Cost'] = df_agency['Total Cost']\n",
    "df_agency.rename({'Total Cost': 'Total Cost (millon)'}, axis=1, inplace=True)\n",
    "df_agency[:10]"
   ]
  },
  {
   "cell_type": "code",
   "execution_count": 212,
   "metadata": {},
   "outputs": [],
   "source": [
    "df_agency.rename({'Agency': 'name', 'Fiscal Year': 'date', 'Total Cost (millon)': 'value'}, axis=1, inplace=True)\n",
    "df_agency['category'] = df_agency['name'] \n",
    "df_agency.to_csv(path.join(output_path, 'agency_cost_by_year.csv'), index=None)"
   ]
  },
  {
   "cell_type": "code",
   "execution_count": null,
   "metadata": {},
   "outputs": [],
   "source": []
  },
  {
   "cell_type": "code",
   "execution_count": 213,
   "metadata": {},
   "outputs": [],
   "source": [
    "\n",
    "df_year = df.groupby('Fiscal Year')['Project Number'].count()\\\n",
    "                             .reset_index(name='count') \\\n",
    "                             .sort_values(['count'], ascending=False)\n",
    "df_year[:10]\n",
    "df_year.to_csv(path.join(output_path, 'project_count_by_FY.csv'), index=None)"
   ]
  },
  {
   "cell_type": "code",
   "execution_count": 214,
   "metadata": {},
   "outputs": [
    {
     "data": {
      "image/png": "[encoded data removed]",
      "text/plain": [
       "<Figure size 432x288 with 1 Axes>"
      ]
     },
     "metadata": {
      "needs_background": "light"
     },
     "output_type": "display_data"
    }
   ],
   "source": [
    "ax = sns.barplot(x='Fiscal Year', y='count', data=df_year)"
   ]
  },
  {
   "cell_type": "code",
   "execution_count": 215,
   "metadata": {},
   "outputs": [
    {
     "data": {
      "text/html": [
       "<div>\n",
       "<style scoped>\n",
       "    .dataframe tbody tr th:only-of-type {\n",
       "        vertical-align: middle;\n",
       "    }\n",
       "\n",
       "    .dataframe tbody tr th {\n",
       "        vertical-align: top;\n",
       "    }\n",
       "\n",
       "    .dataframe thead th {\n",
       "        text-align: right;\n",
       "    }\n",
       "</style>\n",
       "<table border=\"1\" class=\"dataframe\">\n",
       "  <thead>\n",
       "    <tr style=\"text-align: right;\">\n",
       "      <th></th>\n",
       "      <th>Project Type</th>\n",
       "      <th>count</th>\n",
       "    </tr>\n",
       "  </thead>\n",
       "  <tbody>\n",
       "    <tr>\n",
       "      <th>66</th>\n",
       "      <td>R01</td>\n",
       "      <td>2177</td>\n",
       "    </tr>\n",
       "    <tr>\n",
       "      <th>70</th>\n",
       "      <td>R21</td>\n",
       "      <td>346</td>\n",
       "    </tr>\n",
       "    <tr>\n",
       "      <th>99</th>\n",
       "      <td>U01</td>\n",
       "      <td>255</td>\n",
       "    </tr>\n",
       "    <tr>\n",
       "      <th>105</th>\n",
       "      <td>U54</td>\n",
       "      <td>195</td>\n",
       "    </tr>\n",
       "    <tr>\n",
       "      <th>29</th>\n",
       "      <td>K01</td>\n",
       "      <td>176</td>\n",
       "    </tr>\n",
       "    <tr>\n",
       "      <th>63</th>\n",
       "      <td>P50</td>\n",
       "      <td>160</td>\n",
       "    </tr>\n",
       "    <tr>\n",
       "      <th>60</th>\n",
       "      <td>P30</td>\n",
       "      <td>145</td>\n",
       "    </tr>\n",
       "    <tr>\n",
       "      <th>58</th>\n",
       "      <td>P01</td>\n",
       "      <td>134</td>\n",
       "    </tr>\n",
       "    <tr>\n",
       "      <th>65</th>\n",
       "      <td>R00</td>\n",
       "      <td>129</td>\n",
       "    </tr>\n",
       "    <tr>\n",
       "      <th>79</th>\n",
       "      <td>R43</td>\n",
       "      <td>117</td>\n",
       "    </tr>\n",
       "  </tbody>\n",
       "</table>\n",
       "</div>"
      ],
      "text/plain": [
       "    Project Type  count\n",
       "66           R01   2177\n",
       "70           R21    346\n",
       "99           U01    255\n",
       "105          U54    195\n",
       "29           K01    176\n",
       "63           P50    160\n",
       "60           P30    145\n",
       "58           P01    134\n",
       "65           R00    129\n",
       "79           R43    117"
      ]
     },
     "execution_count": 215,
     "metadata": {},
     "output_type": "execute_result"
    }
   ],
   "source": [
    "df_type = df.groupby('Project Type')['Project Number'].count()\\\n",
    "                             .reset_index(name='count') \\\n",
    "                             .sort_values(['count'], ascending=False)\n",
    "df_type[:10]"
   ]
  },
  {
   "cell_type": "code",
   "execution_count": 216,
   "metadata": {},
   "outputs": [],
   "source": [
    "df_type[:15].to_csv(path.join(output_path, 'project_count_by_type.csv'), index=None)"
   ]
  },
  {
   "cell_type": "code",
   "execution_count": 217,
   "metadata": {},
   "outputs": [
    {
     "data": {
      "text/plain": [
       "array(['R01', 'R21', 'U01', 'U54', 'K01', 'P50', 'P30', 'P01', 'R00',\n",
       "       'R43', 'K23', 'R44', 'R25', 'F31', 'F32', 'U19', 'K99', 'T32',\n",
       "       'R03', 'U24', 'K08', 'R56', 'F30', 'R24', 'G00', 'R35', 'H00',\n",
       "       'R41', 'P41', 'R13', 'K24', 'K02', 'R33', 'T00', 'K25', 'U41',\n",
       "       'S10', 'P20', 'R15', 'S00', 'R42', 'A00', 'D00', 'L00', 'R37',\n",
       "       'M01', 'D01', 'C01', 'K22', 'R34', 'M00', 'M11', 'A20', 'D02',\n",
       "       'K07', 'M09', 'F99', 'M20', 'G05', 'T15', 'K12', 'T90', 'R90',\n",
       "       'A23', 'S04', 'S02', 'S03', 'Y00', 'H11', 'K11', 'B02', 'P42',\n",
       "       'R61', 'P60', 'L13', 'K04', 'G01', 'I00', 'K00', 'M10', 'K18',\n",
       "       'L04', 'L14', 'S06', 'G20', 'K10', 'B00', 'S08', 'M12', 'K76',\n",
       "       'K43', 'T34', 'U44', 'M13', 'C00', 'A22', 'U18', 'D08', 'S16',\n",
       "       'G04', 'G06', 'S11', 'H09', 'L06', 'I13', 'A04', 'S09'],\n",
       "      dtype=object)"
      ]
     },
     "execution_count": 217,
     "metadata": {},
     "output_type": "execute_result"
    }
   ],
   "source": [
    "df_type['Project Type'].unique()"
   ]
  },
  {
   "cell_type": "code",
   "execution_count": 218,
   "metadata": {},
   "outputs": [
    {
     "data": {
      "image/png": "[encoded data removed]",
      "text/plain": [
       "<Figure size 432x288 with 1 Axes>"
      ]
     },
     "metadata": {
      "needs_background": "light"
     },
     "output_type": "display_data"
    }
   ],
   "source": [
    "ax = sns.barplot(x='Project Type', y='count', data=df_type[:10])"
   ]
  },
  {
   "cell_type": "code",
   "execution_count": 242,
   "metadata": {},
   "outputs": [
    {
     "data": {
      "text/html": [
       "<div>\n",
       "<style scoped>\n",
       "    .dataframe tbody tr th:only-of-type {\n",
       "        vertical-align: middle;\n",
       "    }\n",
       "\n",
       "    .dataframe tbody tr th {\n",
       "        vertical-align: top;\n",
       "    }\n",
       "\n",
       "    .dataframe thead th {\n",
       "        text-align: right;\n",
       "    }\n",
       "</style>\n",
       "<table border=\"1\" class=\"dataframe\">\n",
       "  <thead>\n",
       "    <tr style=\"text-align: right;\">\n",
       "      <th></th>\n",
       "      <th>Univ</th>\n",
       "      <th>count</th>\n",
       "      <th>Percent</th>\n",
       "    </tr>\n",
       "  </thead>\n",
       "  <tbody>\n",
       "    <tr>\n",
       "      <th>233</th>\n",
       "      <td>national institutes of health</td>\n",
       "      <td>237</td>\n",
       "      <td>4.131799</td>\n",
       "    </tr>\n",
       "    <tr>\n",
       "      <th>355</th>\n",
       "      <td>stanford university</td>\n",
       "      <td>230</td>\n",
       "      <td>4.009763</td>\n",
       "    </tr>\n",
       "    <tr>\n",
       "      <th>375</th>\n",
       "      <td>the university of pittsburgh</td>\n",
       "      <td>180</td>\n",
       "      <td>3.138075</td>\n",
       "    </tr>\n",
       "    <tr>\n",
       "      <th>397</th>\n",
       "      <td>university of california los angeles</td>\n",
       "      <td>145</td>\n",
       "      <td>2.527894</td>\n",
       "    </tr>\n",
       "    <tr>\n",
       "      <th>400</th>\n",
       "      <td>university of california san diego</td>\n",
       "      <td>133</td>\n",
       "      <td>2.318689</td>\n",
       "    </tr>\n",
       "    <tr>\n",
       "      <th>473</th>\n",
       "      <td>university of wisconsin madison</td>\n",
       "      <td>130</td>\n",
       "      <td>2.266388</td>\n",
       "    </tr>\n",
       "    <tr>\n",
       "      <th>449</th>\n",
       "      <td>university of pennsylvania</td>\n",
       "      <td>117</td>\n",
       "      <td>2.039749</td>\n",
       "    </tr>\n",
       "    <tr>\n",
       "      <th>432</th>\n",
       "      <td>university of michigan at ann arbor</td>\n",
       "      <td>114</td>\n",
       "      <td>1.987448</td>\n",
       "    </tr>\n",
       "    <tr>\n",
       "      <th>153</th>\n",
       "      <td>harvard university</td>\n",
       "      <td>114</td>\n",
       "      <td>1.987448</td>\n",
       "    </tr>\n",
       "    <tr>\n",
       "      <th>472</th>\n",
       "      <td>university of washington</td>\n",
       "      <td>107</td>\n",
       "      <td>1.865411</td>\n",
       "    </tr>\n",
       "    <tr>\n",
       "      <th>92</th>\n",
       "      <td>columbia university health sciences</td>\n",
       "      <td>105</td>\n",
       "      <td>1.830544</td>\n",
       "    </tr>\n",
       "    <tr>\n",
       "      <th>372</th>\n",
       "      <td>the johns hopkins university</td>\n",
       "      <td>97</td>\n",
       "      <td>1.691074</td>\n",
       "    </tr>\n",
       "    <tr>\n",
       "      <th>442</th>\n",
       "      <td>university of north carolina chapel hill</td>\n",
       "      <td>95</td>\n",
       "      <td>1.656206</td>\n",
       "    </tr>\n",
       "    <tr>\n",
       "      <th>209</th>\n",
       "      <td>massachusetts general hospital</td>\n",
       "      <td>90</td>\n",
       "      <td>1.569038</td>\n",
       "    </tr>\n",
       "    <tr>\n",
       "      <th>490</th>\n",
       "      <td>washington university</td>\n",
       "      <td>79</td>\n",
       "      <td>1.377266</td>\n",
       "    </tr>\n",
       "    <tr>\n",
       "      <th>401</th>\n",
       "      <td>university of california san francisco</td>\n",
       "      <td>76</td>\n",
       "      <td>1.324965</td>\n",
       "    </tr>\n",
       "    <tr>\n",
       "      <th>455</th>\n",
       "      <td>university of southern california</td>\n",
       "      <td>72</td>\n",
       "      <td>1.255230</td>\n",
       "    </tr>\n",
       "    <tr>\n",
       "      <th>227</th>\n",
       "      <td>mount sinai school of medicine</td>\n",
       "      <td>71</td>\n",
       "      <td>1.237796</td>\n",
       "    </tr>\n",
       "    <tr>\n",
       "      <th>121</th>\n",
       "      <td>emory university</td>\n",
       "      <td>67</td>\n",
       "      <td>1.168061</td>\n",
       "    </tr>\n",
       "    <tr>\n",
       "      <th>258</th>\n",
       "      <td>northwestern university at chicago</td>\n",
       "      <td>64</td>\n",
       "      <td>1.115760</td>\n",
       "    </tr>\n",
       "  </tbody>\n",
       "</table>\n",
       "</div>"
      ],
      "text/plain": [
       "                                         Univ  count   Percent\n",
       "233             national institutes of health    237  4.131799\n",
       "355                       stanford university    230  4.009763\n",
       "375              the university of pittsburgh    180  3.138075\n",
       "397      university of california los angeles    145  2.527894\n",
       "400        university of california san diego    133  2.318689\n",
       "473           university of wisconsin madison    130  2.266388\n",
       "449                university of pennsylvania    117  2.039749\n",
       "432       university of michigan at ann arbor    114  1.987448\n",
       "153                        harvard university    114  1.987448\n",
       "472                  university of washington    107  1.865411\n",
       "92        columbia university health sciences    105  1.830544\n",
       "372              the johns hopkins university     97  1.691074\n",
       "442  university of north carolina chapel hill     95  1.656206\n",
       "209            massachusetts general hospital     90  1.569038\n",
       "490                     washington university     79  1.377266\n",
       "401    university of california san francisco     76  1.324965\n",
       "455         university of southern california     72  1.255230\n",
       "227            mount sinai school of medicine     71  1.237796\n",
       "121                          emory university     67  1.168061\n",
       "258        northwestern university at chicago     64  1.115760"
      ]
     },
     "execution_count": 242,
     "metadata": {},
     "output_type": "execute_result"
    }
   ],
   "source": [
    "# The top 10 funded agency\n",
    "df_univ = df.groupby('Univ')['Project Number'].count()\\\n",
    "                             .reset_index(name='count') \\\n",
    "                             .sort_values(['count'], ascending=False)\n",
    "df_univ['Univ']= df_univ['Univ'].str.lower()\n",
    "df_univ['Percent'] = df_univ['count']/df.shape[0]*100\n",
    "df_univ[:20]"
   ]
  },
  {
   "cell_type": "code",
   "execution_count": 231,
   "metadata": {},
   "outputs": [
    {
     "data": {
      "text/plain": [
       "(237, 14)"
      ]
     },
     "execution_count": 231,
     "metadata": {},
     "output_type": "execute_result"
    }
   ],
   "source": [
    "df[df['Univ'].str.lower()=='national institutes of health'].shape"
   ]
  },
  {
   "cell_type": "code",
   "execution_count": 221,
   "metadata": {},
   "outputs": [
    {
     "data": {
      "text/plain": [
       "<matplotlib.axes._subplots.AxesSubplot at 0x1a26567c18>"
      ]
     },
     "execution_count": 221,
     "metadata": {},
     "output_type": "execute_result"
    },
    {
     "data": {
      "image/png": "[encoded data removed]",
      "text/plain": [
       "<Figure size 432x288 with 1 Axes>"
      ]
     },
     "metadata": {
      "needs_background": "light"
     },
     "output_type": "display_data"
    }
   ],
   "source": [
    "sns.boxplot(df['Delta_years'])"
   ]
  },
  {
   "cell_type": "code",
   "execution_count": 222,
   "metadata": {},
   "outputs": [
    {
     "data": {
      "text/plain": [
       "4.0"
      ]
     },
     "execution_count": 222,
     "metadata": {},
     "output_type": "execute_result"
    }
   ],
   "source": [
    "df['Delta_years'].median()"
   ]
  },
  {
   "cell_type": "code",
   "execution_count": 223,
   "metadata": {},
   "outputs": [
    {
     "data": {
      "text/plain": [
       "3.5639723801787166"
      ]
     },
     "execution_count": 223,
     "metadata": {},
     "output_type": "execute_result"
    }
   ],
   "source": [
    "df['Delta_years'].mean()"
   ]
  },
  {
   "cell_type": "code",
   "execution_count": 224,
   "metadata": {},
   "outputs": [
    {
     "data": {
      "text/plain": [
       "<matplotlib.axes._subplots.AxesSubplot at 0x1a2663bc88>"
      ]
     },
     "execution_count": 224,
     "metadata": {},
     "output_type": "execute_result"
    },
    {
     "data": {
      "image/png": "[encoded data removed]",
      "text/plain": [
       "<Figure size 432x288 with 1 Axes>"
      ]
     },
     "metadata": {
      "needs_background": "light"
     },
     "output_type": "display_data"
    }
   ],
   "source": [
    "sns.boxplot(df['Total Cost']/10000)"
   ]
  },
  {
   "cell_type": "code",
   "execution_count": 225,
   "metadata": {},
   "outputs": [
    {
     "data": {
      "text/plain": [
       "48.063168801256325"
      ]
     },
     "execution_count": 225,
     "metadata": {},
     "output_type": "execute_result"
    }
   ],
   "source": [
    "df['Total Cost'].mean()/10000"
   ]
  },
  {
   "cell_type": "code",
   "execution_count": 226,
   "metadata": {},
   "outputs": [
    {
     "data": {
      "text/plain": [
       "480631.6880125633"
      ]
     },
     "execution_count": 226,
     "metadata": {},
     "output_type": "execute_result"
    }
   ],
   "source": [
    "df['Total Cost'].mean()"
   ]
  },
  {
   "cell_type": "code",
   "execution_count": null,
   "metadata": {},
   "outputs": [],
   "source": []
  }
 ],
 "metadata": {
  "kernelspec": {
   "display_name": "Python 3",
   "language": "python",
   "name": "python3"
  },
  "language_info": {
   "codemirror_mode": {
    "name": "ipython",
    "version": 3
   },
   "file_extension": ".py",
   "mimetype": "text/x-python",
   "name": "python",
   "nbconvert_exporter": "python",
   "pygments_lexer": "ipython3",
   "version": "3.6.6"
  }
 },
 "nbformat": 4,
 "nbformat_minor": 2
}
